{
 "cells": [
  {
   "cell_type": "code",
   "execution_count": 1,
   "id": "dfb1a46d",
   "metadata": {},
   "outputs": [
    {
     "name": "stdout",
     "output_type": "stream",
     "text": [
      "{'name': 'kamal', 'prof': 'cv-eng'}\n",
      "<class 'dict'>\n"
     ]
    }
   ],
   "source": [
    "a = {'name':'kamal','prof':'cv-eng'}\n",
    "print(a)\n",
    "print(type(a))"
   ]
  },
  {
   "cell_type": "code",
   "execution_count": 3,
   "id": "54b0c647",
   "metadata": {},
   "outputs": [
    {
     "name": "stdout",
     "output_type": "stream",
     "text": [
      "{'name': ['kamal', 'praveen', 'vijay'], 'prof': ['cv-eng', 'se', 'admis']}\n",
      "<class 'dict'>\n"
     ]
    }
   ],
   "source": [
    "a = {'name':['kamal','praveen','vijay'],'prof':['cv-eng','se','admis']}\n",
    "print(a)\n",
    "print(type(a))"
   ]
  },
  {
   "cell_type": "code",
   "execution_count": 7,
   "id": "200f4267",
   "metadata": {},
   "outputs": [],
   "source": [
    "# dictionary is a mutable data type \n",
    "# it completely works with key value only it will not work with index \n",
    "# use key for it's values \n",
    "# keys should not be repeted to make proper data "
   ]
  },
  {
   "cell_type": "code",
   "execution_count": 5,
   "id": "30aee9cb",
   "metadata": {},
   "outputs": [
    {
     "name": "stdout",
     "output_type": "stream",
     "text": [
      "kamal\n"
     ]
    }
   ],
   "source": [
    "a = {'name':'kamal','prof':'cv-eng'}\n",
    "print(a['name'])"
   ]
  },
  {
   "cell_type": "code",
   "execution_count": 6,
   "id": "c1c6c031",
   "metadata": {},
   "outputs": [
    {
     "name": "stdout",
     "output_type": "stream",
     "text": [
      "cv-eng\n"
     ]
    }
   ],
   "source": [
    "print(a['prof'])"
   ]
  },
  {
   "cell_type": "code",
   "execution_count": 9,
   "id": "347f7b2a",
   "metadata": {},
   "outputs": [
    {
     "name": "stdout",
     "output_type": "stream",
     "text": [
      "SRK\n"
     ]
    }
   ],
   "source": [
    "a = {'name':'kamal','prof':'cv-eng',\"name\":'SRK'}\n",
    "print(a['name'])"
   ]
  },
  {
   "cell_type": "markdown",
   "id": "17a7e3f1",
   "metadata": {},
   "source": [
    "# dictionary is mutable data type prove it "
   ]
  },
  {
   "cell_type": "code",
   "execution_count": null,
   "id": "702af42c",
   "metadata": {},
   "outputs": [],
   "source": [
    "# addition \n"
   ]
  },
  {
   "cell_type": "code",
   "execution_count": 13,
   "id": "cbd4f7dd",
   "metadata": {},
   "outputs": [
    {
     "name": "stdout",
     "output_type": "stream",
     "text": [
      "{'name': 'srk', 'prof': 'actor'}\n"
     ]
    }
   ],
   "source": [
    "a = {}  # it is an empty dictionary \n",
    "# how to fill the key and values to empty dictionary \n",
    "a['name'] = 'srk'\n",
    "a['prof'] = 'actor'\n",
    "\n",
    "print(a)"
   ]
  },
  {
   "cell_type": "code",
   "execution_count": 14,
   "id": "604c29ed",
   "metadata": {},
   "outputs": [
    {
     "name": "stdout",
     "output_type": "stream",
     "text": [
      "{'name': 'kamal', 'prof': 'cv-eng', 'vihara': 'data science'}\n"
     ]
    }
   ],
   "source": [
    "a = {'name':'kamal','prof':'cv-eng'} # here we already have data \n",
    "a['vihara'] = 'data science'\n",
    "print(a)\n"
   ]
  },
  {
   "cell_type": "code",
   "execution_count": 15,
   "id": "b2430087",
   "metadata": {},
   "outputs": [
    {
     "name": "stdout",
     "output_type": "stream",
     "text": [
      "{'name': 'kamal'}\n"
     ]
    }
   ],
   "source": [
    "## deleting \n",
    "a = {'name':'kamal','prof':'cv-eng'} \n",
    "del a['prof']  # removed \n",
    "print(a)"
   ]
  },
  {
   "cell_type": "markdown",
   "id": "ac5acb73",
   "metadata": {},
   "source": [
    "### so from the above techniques we can say dictionary is mutable data type "
   ]
  },
  {
   "cell_type": "code",
   "execution_count": 16,
   "id": "e1c25df6",
   "metadata": {},
   "outputs": [],
   "source": [
    "### functions \n"
   ]
  },
  {
   "cell_type": "code",
   "execution_count": 18,
   "id": "42ace9d0",
   "metadata": {},
   "outputs": [
    {
     "name": "stdout",
     "output_type": "stream",
     "text": [
      "{}\n"
     ]
    }
   ],
   "source": [
    "# clear = removes the data and returns empty dict \n",
    "a = {'name':'kamal','prof':'cv-eng'} \n",
    "a.clear()\n",
    "print(a)"
   ]
  },
  {
   "cell_type": "code",
   "execution_count": 19,
   "id": "99f09738",
   "metadata": {},
   "outputs": [
    {
     "name": "stdout",
     "output_type": "stream",
     "text": [
      "{'name': 'kamal', 'prof': 'cv-eng'}\n",
      "{'name': 'kamal', 'prof': 'cv-eng'}\n"
     ]
    }
   ],
   "source": [
    "# copy = copy from one varibale to another variable \n",
    "a = {'name':'kamal','prof':'cv-eng'} \n",
    "b = a.copy()\n",
    "print(a)\n",
    "print(b)"
   ]
  },
  {
   "cell_type": "code",
   "execution_count": 20,
   "id": "e9ead894",
   "metadata": {},
   "outputs": [
    {
     "name": "stdout",
     "output_type": "stream",
     "text": [
      "cv-eng\n"
     ]
    }
   ],
   "source": [
    "# get : used to get the values \n",
    "a = {'name':'kamal','prof':'cv-eng'} \n",
    "print(a['prof'])"
   ]
  },
  {
   "cell_type": "code",
   "execution_count": 21,
   "id": "e0c24903",
   "metadata": {},
   "outputs": [
    {
     "name": "stdout",
     "output_type": "stream",
     "text": [
      "cv-eng\n"
     ]
    }
   ],
   "source": [
    "a = {'name':'kamal','prof':'cv-eng'} \n",
    "print(a.get('prof'))"
   ]
  },
  {
   "cell_type": "code",
   "execution_count": 24,
   "id": "56582948",
   "metadata": {},
   "outputs": [
    {
     "name": "stdout",
     "output_type": "stream",
     "text": [
      "{'name': 'kamal', 'prof': 'cv-eng', 'course': 'data science'}\n"
     ]
    }
   ],
   "source": [
    "# update : is used to add the key and value \n",
    "a = {'name':'kamal','prof':'cv-eng'} \n",
    "a.update({'course':'data science'})\n",
    "print(a)"
   ]
  },
  {
   "cell_type": "code",
   "execution_count": 25,
   "id": "83c641fe",
   "metadata": {},
   "outputs": [
    {
     "name": "stdout",
     "output_type": "stream",
     "text": [
      "{1: 'kamal', 2: 15.5}\n"
     ]
    }
   ],
   "source": [
    "a = {1:'kamal',2:15.5}\n",
    "print(a)"
   ]
  },
  {
   "cell_type": "code",
   "execution_count": 26,
   "id": "27cca47b",
   "metadata": {},
   "outputs": [
    {
     "name": "stdout",
     "output_type": "stream",
     "text": [
      "cv-eng\n"
     ]
    }
   ],
   "source": [
    "# pop : is used to remove the specified key and value \n",
    "a = {'name':'kamal','prof':'cv-eng'}\n",
    "print(a.pop('prof'))"
   ]
  },
  {
   "cell_type": "code",
   "execution_count": 27,
   "id": "358a57ff",
   "metadata": {},
   "outputs": [
    {
     "name": "stdout",
     "output_type": "stream",
     "text": [
      "{'name': 'kamal'}\n"
     ]
    }
   ],
   "source": [
    "print(a)"
   ]
  },
  {
   "cell_type": "code",
   "execution_count": 28,
   "id": "03cc446a",
   "metadata": {},
   "outputs": [
    {
     "name": "stdout",
     "output_type": "stream",
     "text": [
      "('india', 'dhoni')\n"
     ]
    }
   ],
   "source": [
    "# popitem : is used to remove the last key and value \n",
    "a = {'name':'kamal','prof':'cv-eng','india':'dhoni'}\n",
    "print(a.popitem())"
   ]
  },
  {
   "cell_type": "code",
   "execution_count": 29,
   "id": "9e9185ac",
   "metadata": {},
   "outputs": [
    {
     "name": "stdout",
     "output_type": "stream",
     "text": [
      "{'name': 'kamal', 'prof': 'cv-eng'}\n"
     ]
    }
   ],
   "source": [
    "print(a)"
   ]
  },
  {
   "cell_type": "code",
   "execution_count": 30,
   "id": "2166d50d",
   "metadata": {},
   "outputs": [
    {
     "name": "stdout",
     "output_type": "stream",
     "text": [
      "dict_keys(['name', 'prof', 'india'])\n"
     ]
    }
   ],
   "source": [
    "# keys , values and items \n",
    "a = {'name':'kamal','prof':'cv-eng','india':'dhoni'}\n",
    "print(a.keys()) # will print all the keys in the dict"
   ]
  },
  {
   "cell_type": "code",
   "execution_count": 31,
   "id": "3fa8271f",
   "metadata": {},
   "outputs": [
    {
     "name": "stdout",
     "output_type": "stream",
     "text": [
      "dict_values(['kamal', 'cv-eng', 'dhoni'])\n"
     ]
    }
   ],
   "source": [
    "# values : will print only the values in a dict \n",
    "a = {'name':'kamal','prof':'cv-eng','india':'dhoni'}\n",
    "print(a.values())"
   ]
  },
  {
   "cell_type": "code",
   "execution_count": 32,
   "id": "fb4a500a",
   "metadata": {},
   "outputs": [
    {
     "name": "stdout",
     "output_type": "stream",
     "text": [
      "dict_items([('name', 'kamal'), ('prof', 'cv-eng'), ('india', 'dhoni')])\n"
     ]
    }
   ],
   "source": [
    "# items : gives both keys and values \n",
    "a = {'name':'kamal','prof':'cv-eng','india':'dhoni'}\n",
    "print(a.items())"
   ]
  },
  {
   "cell_type": "code",
   "execution_count": null,
   "id": "37ec9e9b",
   "metadata": {},
   "outputs": [],
   "source": []
  }
 ],
 "metadata": {
  "kernelspec": {
   "display_name": "Python 3 (ipykernel)",
   "language": "python",
   "name": "python3"
  },
  "language_info": {
   "codemirror_mode": {
    "name": "ipython",
    "version": 3
   },
   "file_extension": ".py",
   "mimetype": "text/x-python",
   "name": "python",
   "nbconvert_exporter": "python",
   "pygments_lexer": "ipython3",
   "version": "3.11.3"
  }
 },
 "nbformat": 4,
 "nbformat_minor": 5
}
