{
 "cells": [
  {
   "cell_type": "code",
   "execution_count": null,
   "id": "cd640ea1",
   "metadata": {},
   "outputs": [],
   "source": [
    "# In python version_1 : print(my name is kamal)\n",
    "# In python version_2 : print \"my name is kamal\"\n",
    "# In python version_3 : print('my name is kamal')  | 'write' ,\"write\",\"\"\"write\"\"\""
   ]
  },
  {
   "cell_type": "code",
   "execution_count": 6,
   "id": "12b9be66",
   "metadata": {},
   "outputs": [
    {
     "name": "stdout",
     "output_type": "stream",
     "text": [
      "my name is kamal I love holly movies my age is 27\n"
     ]
    }
   ],
   "source": [
    "print('my name is kamal I love holly movies my age is 27')\n",
    "# print should be in between the quotes "
   ]
  },
  {
   "cell_type": "code",
   "execution_count": 7,
   "id": "e8ef54b1",
   "metadata": {},
   "outputs": [
    {
     "name": "stdout",
     "output_type": "stream",
     "text": [
      "my name is kamal I love holly movies my age is 27\n"
     ]
    }
   ],
   "source": [
    "# single quote\n",
    "print('my name is kamal I love holly movies my age is 27')"
   ]
  },
  {
   "cell_type": "code",
   "execution_count": 10,
   "id": "78a0d623",
   "metadata": {},
   "outputs": [
    {
     "name": "stdout",
     "output_type": "stream",
     "text": [
      "my name is kamal age is 27 \n"
     ]
    }
   ],
   "source": [
    "# double quote \n",
    "print(\"my name is kamal age is 27 \")"
   ]
  },
  {
   "cell_type": "code",
   "execution_count": 11,
   "id": "293cb8e4",
   "metadata": {},
   "outputs": [
    {
     "name": "stdout",
     "output_type": "stream",
     "text": [
      "I love data science\n"
     ]
    }
   ],
   "source": [
    "# thriple quote \n",
    "print(\"\"\"I love data science\"\"\")"
   ]
  },
  {
   "cell_type": "code",
   "execution_count": 13,
   "id": "a6bc3d83",
   "metadata": {},
   "outputs": [
    {
     "name": "stdout",
     "output_type": "stream",
     "text": [
      "I am cv scientist\n"
     ]
    }
   ],
   "source": [
    "print('I am cv scientist')"
   ]
  },
  {
   "cell_type": "markdown",
   "id": "a196a40a",
   "metadata": {},
   "source": [
    "### we can add print conditions along with variables to make a proper outputs "
   ]
  },
  {
   "cell_type": "code",
   "execution_count": 17,
   "id": "fa1f6853",
   "metadata": {},
   "outputs": [],
   "source": [
    "# expected output = my age is 30 \n",
    "# use variables if available "
   ]
  },
  {
   "cell_type": "code",
   "execution_count": 14,
   "id": "e78ed89a",
   "metadata": {},
   "outputs": [
    {
     "name": "stdout",
     "output_type": "stream",
     "text": [
      "I love python language from past 30 years\n"
     ]
    }
   ],
   "source": [
    "age = 30\n",
    "\n",
    "print('I love python language from past 30 years')"
   ]
  },
  {
   "cell_type": "markdown",
   "id": "fcd48e18",
   "metadata": {},
   "source": [
    "## using comma(,)"
   ]
  },
  {
   "cell_type": "code",
   "execution_count": 20,
   "id": "aaf06a81",
   "metadata": {},
   "outputs": [
    {
     "name": "stdout",
     "output_type": "stream",
     "text": [
      "my age is 30\n"
     ]
    }
   ],
   "source": [
    "age = 30\n",
    "\n",
    "print('my age is',age)"
   ]
  },
  {
   "cell_type": "code",
   "execution_count": 27,
   "id": "b2b5e9eb",
   "metadata": {},
   "outputs": [
    {
     "name": "stdout",
     "output_type": "stream",
     "text": [
      "I am learning data science in vihara tech for 5 months\n"
     ]
    }
   ],
   "source": [
    "course = 'data science'\n",
    "place = 'vihara tech'\n",
    "duration = 5\n",
    "\n",
    "# expected output = I am learning data science in vihara tech for 5 months \n",
    "\n",
    "print('I am learning',course,'in',place,'for',duration,'months')"
   ]
  },
  {
   "cell_type": "code",
   "execution_count": 31,
   "id": "50b33e6d",
   "metadata": {},
   "outputs": [
    {
     "name": "stdout",
     "output_type": "stream",
     "text": [
      "shakruk khan was acting in a movie called AI with budget 1000 crores\n"
     ]
    }
   ],
   "source": [
    "movie='AI'\n",
    "hero='shakruk'\n",
    "budget=1000\n",
    "\n",
    "# expected output = sharuk khan was acting in a movie called AI with budget 1000 crores \n",
    "print(hero,\"khan was acting in a movie called\",movie,\"with budget\",budget,'crores')"
   ]
  },
  {
   "cell_type": "code",
   "execution_count": null,
   "id": "e7d10857",
   "metadata": {},
   "outputs": [],
   "source": []
  }
 ],
 "metadata": {
  "kernelspec": {
   "display_name": "Python 3 (ipykernel)",
   "language": "python",
   "name": "python3"
  },
  "language_info": {
   "codemirror_mode": {
    "name": "ipython",
    "version": 3
   },
   "file_extension": ".py",
   "mimetype": "text/x-python",
   "name": "python",
   "nbconvert_exporter": "python",
   "pygments_lexer": "ipython3",
   "version": "3.9.13"
  }
 },
 "nbformat": 4,
 "nbformat_minor": 5
}
