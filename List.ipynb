{
 "cells": [
  {
   "cell_type": "code",
   "execution_count": 1,
   "id": "b3d076f9",
   "metadata": {},
   "outputs": [
    {
     "name": "stdout",
     "output_type": "stream",
     "text": [
      "[12, 50.5, 'python']\n",
      "<class 'list'>\n"
     ]
    }
   ],
   "source": [
    "# representation = []\n",
    "\n",
    "a = [12 , 50.5 , 'python']\n",
    "print(a)\n",
    "print(type(a))"
   ]
  },
  {
   "cell_type": "code",
   "execution_count": 2,
   "id": "68823e6c",
   "metadata": {},
   "outputs": [
    {
     "name": "stdout",
     "output_type": "stream",
     "text": [
      "50.5\n"
     ]
    }
   ],
   "source": [
    "# index in list:\n",
    "a = [12 , 50.5 , 'python']\n",
    "print(a[1])"
   ]
  },
  {
   "cell_type": "code",
   "execution_count": 3,
   "id": "84cc4794",
   "metadata": {},
   "outputs": [
    {
     "name": "stdout",
     "output_type": "stream",
     "text": [
      "[12, 50.5, 'python']\n"
     ]
    }
   ],
   "source": [
    "print(a)"
   ]
  },
  {
   "cell_type": "code",
   "execution_count": 4,
   "id": "8046a3a4",
   "metadata": {},
   "outputs": [
    {
     "name": "stdout",
     "output_type": "stream",
     "text": [
      "python\n"
     ]
    }
   ],
   "source": [
    "print(a[2])"
   ]
  },
  {
   "cell_type": "code",
   "execution_count": 6,
   "id": "17460023",
   "metadata": {},
   "outputs": [
    {
     "name": "stdout",
     "output_type": "stream",
     "text": [
      "o\n"
     ]
    }
   ],
   "source": [
    "# print o from python which is in a list \n",
    "print(a[2][4])"
   ]
  },
  {
   "cell_type": "code",
   "execution_count": 7,
   "id": "ffeb1518",
   "metadata": {},
   "outputs": [
    {
     "name": "stdout",
     "output_type": "stream",
     "text": [
      "[12, 50.5, 'python']\n"
     ]
    }
   ],
   "source": [
    "print(a[:])  # entire list "
   ]
  },
  {
   "cell_type": "code",
   "execution_count": 8,
   "id": "793cf8d5",
   "metadata": {},
   "outputs": [
    {
     "name": "stdout",
     "output_type": "stream",
     "text": [
      "['python', 50.5, 12]\n"
     ]
    }
   ],
   "source": [
    "print(a[::-1])"
   ]
  },
  {
   "cell_type": "code",
   "execution_count": 9,
   "id": "117b43df",
   "metadata": {},
   "outputs": [
    {
     "name": "stdout",
     "output_type": "stream",
     "text": [
      "[1, 3, 5, 7, 12.4]\n"
     ]
    }
   ],
   "source": [
    "# skipping \n",
    "\n",
    "a = [1,2,3,4,5,6,7,8,12.4,7]\n",
    "print(a[::2])"
   ]
  },
  {
   "cell_type": "code",
   "execution_count": 10,
   "id": "c7bb873e",
   "metadata": {},
   "outputs": [],
   "source": [
    "# if list is mutable means prove it:\n",
    "# addition : add some extra memory\n",
    "# delete : delete the memory \n",
    "# replace : replace old one with new one \n"
   ]
  },
  {
   "cell_type": "code",
   "execution_count": 12,
   "id": "83e630ea",
   "metadata": {},
   "outputs": [
    {
     "ename": "IndexError",
     "evalue": "list assignment index out of range",
     "output_type": "error",
     "traceback": [
      "\u001b[1;31m---------------------------------------------------------------------------\u001b[0m",
      "\u001b[1;31mIndexError\u001b[0m                                Traceback (most recent call last)",
      "Cell \u001b[1;32mIn[12], line 4\u001b[0m\n\u001b[0;32m      1\u001b[0m \u001b[38;5;66;03m# addition:\u001b[39;00m\n\u001b[0;32m      3\u001b[0m a \u001b[38;5;241m=\u001b[39m [\u001b[38;5;241m12\u001b[39m , \u001b[38;5;241m50.5\u001b[39m , \u001b[38;5;124m'\u001b[39m\u001b[38;5;124mpython\u001b[39m\u001b[38;5;124m'\u001b[39m]\n\u001b[1;32m----> 4\u001b[0m \u001b[43ma\u001b[49m\u001b[43m[\u001b[49m\u001b[38;5;241;43m3\u001b[39;49m\u001b[43m]\u001b[49m \u001b[38;5;241m=\u001b[39m \u001b[38;5;124m'\u001b[39m\u001b[38;5;124mdata science\u001b[39m\u001b[38;5;124m'\u001b[39m\n\u001b[0;32m      5\u001b[0m \u001b[38;5;28mprint\u001b[39m(a)\n",
      "\u001b[1;31mIndexError\u001b[0m: list assignment index out of range"
     ]
    }
   ],
   "source": [
    "# addition:\n",
    "# with index we cant create a memory space \n",
    "# index is only used to assign and call \n",
    "\n",
    "a = [12 , 50.5 , 'python']\n",
    "a[3] = 'data science'\n",
    "print(a)"
   ]
  },
  {
   "cell_type": "code",
   "execution_count": 14,
   "id": "ea0d09e6",
   "metadata": {},
   "outputs": [
    {
     "name": "stdout",
     "output_type": "stream",
     "text": [
      "before [12, 50.5, 'python']\n",
      "after =  [12, 50.5, 'python', 100]\n"
     ]
    }
   ],
   "source": [
    "# we can do it using list methods \n",
    "# using append method we can add a value to existing list \n",
    "# but append method will only add the value to end of the list \n",
    "\n",
    "a = [12 , 50.5 , 'python']\n",
    "print('before' , a)\n",
    "a.append(100)  # auto update will done \n",
    "print('after = ',a)"
   ]
  },
  {
   "cell_type": "code",
   "execution_count": 17,
   "id": "6447dffd",
   "metadata": {},
   "outputs": [
    {
     "name": "stdout",
     "output_type": "stream",
     "text": [
      "before [12, 50.5, 'python']\n",
      "after [100, 12, 50.5, 'python']\n"
     ]
    }
   ],
   "source": [
    "# i want to add whereever i want :\n",
    "# yes it is possible using insert method \n",
    "\n",
    "a = [12 , 50.5 , 'python']\n",
    "print('before' , a)\n",
    "a.insert(0 , 100)\n",
    "print('after' , a)"
   ]
  },
  {
   "cell_type": "code",
   "execution_count": 20,
   "id": "c0a2aed6",
   "metadata": {},
   "outputs": [
    {
     "name": "stdout",
     "output_type": "stream",
     "text": [
      "before [12, 50.5, 'python']\n",
      "after [12, 50.5, 'python', 100]\n"
     ]
    }
   ],
   "source": [
    "# i want to add whereever i want :\n",
    "# yes it is possible using insert method \n",
    "\n",
    "a = [12 , 50.5 , 'python']\n",
    "print('before' , a)\n",
    "a.insert(50 , 100)   # if we given behind point index it is going to add at the end \n",
    "# prem \n",
    "print('after' , a)"
   ]
  },
  {
   "cell_type": "code",
   "execution_count": 21,
   "id": "1c7f83b9",
   "metadata": {},
   "outputs": [
    {
     "name": "stdout",
     "output_type": "stream",
     "text": [
      "[12, 50.5]\n"
     ]
    }
   ],
   "source": [
    "# deletion:\n",
    "a = [12 , 50.5 , 'python']\n",
    "del a[2]\n",
    "print(a)"
   ]
  },
  {
   "cell_type": "code",
   "execution_count": 22,
   "id": "397acf6e",
   "metadata": {},
   "outputs": [
    {
     "ename": "NameError",
     "evalue": "name 'a' is not defined",
     "output_type": "error",
     "traceback": [
      "\u001b[1;31m---------------------------------------------------------------------------\u001b[0m",
      "\u001b[1;31mNameError\u001b[0m                                 Traceback (most recent call last)",
      "Cell \u001b[1;32mIn[22], line 3\u001b[0m\n\u001b[0;32m      1\u001b[0m a \u001b[38;5;241m=\u001b[39m [\u001b[38;5;241m12\u001b[39m , \u001b[38;5;241m50.5\u001b[39m , \u001b[38;5;124m'\u001b[39m\u001b[38;5;124mpython\u001b[39m\u001b[38;5;124m'\u001b[39m]\n\u001b[0;32m      2\u001b[0m \u001b[38;5;28;01mdel\u001b[39;00m a\n\u001b[1;32m----> 3\u001b[0m \u001b[38;5;28mprint\u001b[39m(\u001b[43ma\u001b[49m)\n",
      "\u001b[1;31mNameError\u001b[0m: name 'a' is not defined"
     ]
    }
   ],
   "source": [
    "a = [12 , 50.5 , 'python']\n",
    "del a\n",
    "print(a)"
   ]
  },
  {
   "cell_type": "code",
   "execution_count": 24,
   "id": "ddd47e1c",
   "metadata": {},
   "outputs": [
    {
     "name": "stdout",
     "output_type": "stream",
     "text": [
      "[500, 50.5, 'python']\n"
     ]
    }
   ],
   "source": [
    "# replace:using index \n",
    "a = [12 , 50.5 , 'python']\n",
    "a[0] = 500 # in the place of 12 replace with 500\n",
    "print(a)"
   ]
  },
  {
   "cell_type": "markdown",
   "id": "f9257588",
   "metadata": {},
   "source": [
    "### based on above 3 condition list is a mutable "
   ]
  },
  {
   "cell_type": "code",
   "execution_count": 25,
   "id": "729ff6ec",
   "metadata": {},
   "outputs": [],
   "source": [
    "# methods in list"
   ]
  },
  {
   "cell_type": "code",
   "execution_count": 26,
   "id": "910882c5",
   "metadata": {},
   "outputs": [
    {
     "name": "stdout",
     "output_type": "stream",
     "text": [
      "[12, 50.5, 'python', 100]\n"
     ]
    }
   ],
   "source": [
    "# append = will add value at the end \n",
    "\n",
    "a = [12 , 50.5 , 'python']\n",
    "a.append(100)\n",
    "print(a)"
   ]
  },
  {
   "cell_type": "code",
   "execution_count": 28,
   "id": "11d381f0",
   "metadata": {},
   "outputs": [
    {
     "name": "stdout",
     "output_type": "stream",
     "text": [
      "[]\n"
     ]
    }
   ],
   "source": [
    "# clear = clear is used to clear the data in the memory \n",
    "a = [12 , 50.5 , 'python']\n",
    "a.clear() # clear will remove data but variable will be alive where as delete will delete the entire variable\n",
    "print(a)"
   ]
  },
  {
   "cell_type": "code",
   "execution_count": 29,
   "id": "88e42cb1",
   "metadata": {},
   "outputs": [
    {
     "name": "stdout",
     "output_type": "stream",
     "text": [
      "a =  [12, 50.5, 'python']\n",
      "b =  [12, 50.5, 'python']\n"
     ]
    }
   ],
   "source": [
    "# copy = used to copy from one variable to another variable \n",
    "a = [12 , 50.5 , 'python']\n",
    "b = a.copy()\n",
    "print('a = ',a)\n",
    "print('b = ',b)"
   ]
  },
  {
   "cell_type": "code",
   "execution_count": 30,
   "id": "746f60b4",
   "metadata": {},
   "outputs": [
    {
     "name": "stdout",
     "output_type": "stream",
     "text": [
      "2\n"
     ]
    }
   ],
   "source": [
    "# count : count the occurences\n",
    "a = [12 , 50.5 , 'python' , 12]\n",
    "print(a.count(12))"
   ]
  },
  {
   "cell_type": "code",
   "execution_count": 32,
   "id": "b3799d8c",
   "metadata": {},
   "outputs": [
    {
     "name": "stdout",
     "output_type": "stream",
     "text": [
      "0\n"
     ]
    }
   ],
   "source": [
    "# index : used to find the index x\n",
    "a = [12 , 50.5 , 'python',12]\n",
    "print(a.index(12))"
   ]
  },
  {
   "cell_type": "code",
   "execution_count": 38,
   "id": "f423086d",
   "metadata": {},
   "outputs": [
    {
     "name": "stdout",
     "output_type": "stream",
     "text": [
      "3\n"
     ]
    }
   ],
   "source": [
    "# index : used to find the index x\n",
    "a = [12 , 50.5 , 'python',12]\n",
    "print(a.index(12,1,4))"
   ]
  },
  {
   "cell_type": "code",
   "execution_count": 39,
   "id": "d6c69e27",
   "metadata": {},
   "outputs": [
    {
     "name": "stdout",
     "output_type": "stream",
     "text": [
      "[12, 50.5, 'python', 10, 20, 30]\n"
     ]
    }
   ],
   "source": [
    "# extend = is used to add a list of multipel values to and existing list only at the end \n",
    "\n",
    "a = [12 , 50.5 , 'python']\n",
    "a.extend([10,20,30])\n",
    "print(a)"
   ]
  },
  {
   "cell_type": "code",
   "execution_count": 40,
   "id": "d184b61d",
   "metadata": {},
   "outputs": [
    {
     "name": "stdout",
     "output_type": "stream",
     "text": [
      "[12, 50.5]\n"
     ]
    }
   ],
   "source": [
    "# pop : is used to remove a value [last value will be removed]\n",
    "# but using index you can remove any value you like \n",
    "\n",
    "a = [12 , 50.5 , 'python']\n",
    "a.pop()  # default it will remove last value \n",
    "print(a)"
   ]
  },
  {
   "cell_type": "code",
   "execution_count": 41,
   "id": "ccec196e",
   "metadata": {},
   "outputs": [
    {
     "name": "stdout",
     "output_type": "stream",
     "text": [
      "[12, 'python']\n"
     ]
    }
   ],
   "source": [
    "\n",
    "a = [12 , 50.5 , 'python']\n",
    "a.pop(1)  # give the index which you want to remove  \n",
    "print(a)"
   ]
  },
  {
   "cell_type": "code",
   "execution_count": 42,
   "id": "2a9941a7",
   "metadata": {},
   "outputs": [
    {
     "name": "stdout",
     "output_type": "stream",
     "text": [
      "[12, 'python']\n"
     ]
    }
   ],
   "source": [
    "# remove = you can pass directy the value and you can remove it there is not need of index \n",
    "\n",
    "a = [12 , 50.5 , 'python']\n",
    "a.remove(50.5)  # give directly value \n",
    "print(a)"
   ]
  },
  {
   "cell_type": "code",
   "execution_count": 43,
   "id": "be92bea7",
   "metadata": {},
   "outputs": [
    {
     "name": "stdout",
     "output_type": "stream",
     "text": [
      "[12, 50.5]\n"
     ]
    }
   ],
   "source": [
    "\n",
    "a = [12 , 50.5 , 'python']\n",
    "a.remove('python')  # give directly value \n",
    "print(a)"
   ]
  },
  {
   "cell_type": "code",
   "execution_count": 44,
   "id": "8ad4a209",
   "metadata": {},
   "outputs": [
    {
     "name": "stdout",
     "output_type": "stream",
     "text": [
      "['python', 50.5, 12]\n"
     ]
    }
   ],
   "source": [
    "# reverse=reverse a list \n",
    "\n",
    "a = [12 , 50.5 , 'python']\n",
    "print(a[::-1])"
   ]
  },
  {
   "cell_type": "code",
   "execution_count": 48,
   "id": "9e619480",
   "metadata": {},
   "outputs": [
    {
     "name": "stdout",
     "output_type": "stream",
     "text": [
      "['python', 50.5, 12]\n"
     ]
    }
   ],
   "source": [
    "a = [12 , 50.5 , 'python']\n",
    "a.reverse()\n",
    "print(a)"
   ]
  },
  {
   "cell_type": "code",
   "execution_count": 49,
   "id": "b0da81aa",
   "metadata": {},
   "outputs": [
    {
     "name": "stdout",
     "output_type": "stream",
     "text": [
      "[1, 2, 3, 5, 6, 12, 20, 34, 55]\n"
     ]
    }
   ],
   "source": [
    "# sort : sort the values in ascending order or descending order\n",
    "a = [1,5,3,2,6,12,55,34,20]\n",
    "# sort will apply default ascending order [small to big]\n",
    "\n",
    "a.sort()  # ascending order\n",
    "print(a)"
   ]
  },
  {
   "cell_type": "code",
   "execution_count": 50,
   "id": "2602099c",
   "metadata": {},
   "outputs": [
    {
     "name": "stdout",
     "output_type": "stream",
     "text": [
      "[55, 34, 20, 12, 6, 5, 3, 2, 1]\n"
     ]
    }
   ],
   "source": [
    "# sort : sort the values in ascending order or descending order\n",
    "a = [1,5,3,2,6,12,55,34,20]\n",
    "# sort will apply default ascending order [small to big]\n",
    "\n",
    "a.sort(reverse=True)  # use reverse to make it descending \n",
    "print(a)"
   ]
  },
  {
   "cell_type": "code",
   "execution_count": null,
   "id": "ae77210a",
   "metadata": {},
   "outputs": [],
   "source": []
  }
 ],
 "metadata": {
  "kernelspec": {
   "display_name": "Python 3 (ipykernel)",
   "language": "python",
   "name": "python3"
  },
  "language_info": {
   "codemirror_mode": {
    "name": "ipython",
    "version": 3
   },
   "file_extension": ".py",
   "mimetype": "text/x-python",
   "name": "python",
   "nbconvert_exporter": "python",
   "pygments_lexer": "ipython3",
   "version": "3.11.3"
  }
 },
 "nbformat": 4,
 "nbformat_minor": 5
}
