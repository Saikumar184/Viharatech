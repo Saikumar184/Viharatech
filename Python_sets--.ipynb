{
 "cells": [
  {
   "cell_type": "code",
   "execution_count": 1,
   "id": "82ba11dd",
   "metadata": {},
   "outputs": [],
   "source": [
    "# sets\n"
   ]
  },
  {
   "cell_type": "code",
   "execution_count": 3,
   "id": "1056267d",
   "metadata": {},
   "outputs": [
    {
     "name": "stdout",
     "output_type": "stream",
     "text": [
      "{'data science', 10, 15.5}\n",
      "<class 'set'>\n"
     ]
    }
   ],
   "source": [
    "a = {10,15.5,'data science'}\n",
    "print(a)\n",
    "print(type(a))"
   ]
  },
  {
   "cell_type": "code",
   "execution_count": 4,
   "id": "4f43b980",
   "metadata": {},
   "outputs": [
    {
     "name": "stdout",
     "output_type": "stream",
     "text": [
      "{'data science', 10, 15.5}\n",
      "<class 'set'>\n"
     ]
    },
    {
     "ename": "TypeError",
     "evalue": "'set' object is not subscriptable",
     "output_type": "error",
     "traceback": [
      "\u001b[1;31m---------------------------------------------------------------------------\u001b[0m",
      "\u001b[1;31mTypeError\u001b[0m                                 Traceback (most recent call last)",
      "Cell \u001b[1;32mIn[4], line 4\u001b[0m\n\u001b[0;32m      2\u001b[0m \u001b[38;5;28mprint\u001b[39m(a)\n\u001b[0;32m      3\u001b[0m \u001b[38;5;28mprint\u001b[39m(\u001b[38;5;28mtype\u001b[39m(a))\n\u001b[1;32m----> 4\u001b[0m \u001b[38;5;28mprint\u001b[39m(\u001b[43ma\u001b[49m\u001b[43m[\u001b[49m\u001b[38;5;241;43m2\u001b[39;49m\u001b[43m]\u001b[49m)\n",
      "\u001b[1;31mTypeError\u001b[0m: 'set' object is not subscriptable"
     ]
    }
   ],
   "source": [
    "a = {10,15.5,'data science'}\n",
    "print(a)\n",
    "print(type(a))\n",
    "print(a[2])  # you cant use index in sets concept "
   ]
  },
  {
   "cell_type": "code",
   "execution_count": 5,
   "id": "6847afd8",
   "metadata": {},
   "outputs": [
    {
     "name": "stdout",
     "output_type": "stream",
     "text": [
      "{40, 10, 20, 30}\n"
     ]
    }
   ],
   "source": [
    "# duplicates will be removed in the sets \n",
    "a = {10,20,30,10,20,40}\n",
    "print(a)"
   ]
  },
  {
   "cell_type": "code",
   "execution_count": 7,
   "id": "c755dce3",
   "metadata": {},
   "outputs": [
    {
     "name": "stdout",
     "output_type": "stream",
     "text": [
      "{'python', 10, (1, 2, 34), 15.5}\n"
     ]
    }
   ],
   "source": [
    "# dont use mutable inside a set use only immutable \n",
    "# sets are mutable but dont use mutable data types inside sets \n",
    "a = {10 , 15.5 , 'python' , (1,2,34)}\n",
    "print(a)"
   ]
  },
  {
   "cell_type": "code",
   "execution_count": 8,
   "id": "509e8c15",
   "metadata": {},
   "outputs": [
    {
     "ename": "TypeError",
     "evalue": "unhashable type: 'list'",
     "output_type": "error",
     "traceback": [
      "\u001b[1;31m---------------------------------------------------------------------------\u001b[0m",
      "\u001b[1;31mTypeError\u001b[0m                                 Traceback (most recent call last)",
      "Cell \u001b[1;32mIn[8], line 3\u001b[0m\n\u001b[0;32m      1\u001b[0m \u001b[38;5;66;03m# dont use mutable inside a set use only immutable \u001b[39;00m\n\u001b[0;32m      2\u001b[0m \u001b[38;5;66;03m# sets are mutable but dont use mutable data types inside sets \u001b[39;00m\n\u001b[1;32m----> 3\u001b[0m a \u001b[38;5;241m=\u001b[39m {\u001b[38;5;241m10\u001b[39m , \u001b[38;5;241m15.5\u001b[39m , \u001b[38;5;124m'\u001b[39m\u001b[38;5;124mpython\u001b[39m\u001b[38;5;124m'\u001b[39m , (\u001b[38;5;241m1\u001b[39m,\u001b[38;5;241m2\u001b[39m,\u001b[38;5;241m34\u001b[39m) , [\u001b[38;5;241m10\u001b[39m,\u001b[38;5;241m20\u001b[39m,\u001b[38;5;241m30\u001b[39m]}\n\u001b[0;32m      4\u001b[0m \u001b[38;5;28mprint\u001b[39m(a)\n",
      "\u001b[1;31mTypeError\u001b[0m: unhashable type: 'list'"
     ]
    }
   ],
   "source": [
    "# dont use mutable inside a set use only immutable \n",
    "# sets are mutable but dont use mutable data types inside sets \n",
    "a = {10 , 15.5 , 'python' , (1,2,34) , [10,20,30]}\n",
    "print(a)"
   ]
  },
  {
   "cell_type": "markdown",
   "id": "77cfe9cc",
   "metadata": {},
   "source": [
    "# sets conditions \n",
    "\n",
    "- sets are mutable \n",
    "- sets dont follow any order [it is an unordered pair]\n",
    "- sets remove duplicates data \n",
    "- sets will work only with immutable data type [dont pass mutable inside a sets]"
   ]
  },
  {
   "cell_type": "code",
   "execution_count": 11,
   "id": "ccefb7fc",
   "metadata": {},
   "outputs": [
    {
     "ename": "TypeError",
     "evalue": "'set' object is not subscriptable",
     "output_type": "error",
     "traceback": [
      "\u001b[1;31m---------------------------------------------------------------------------\u001b[0m",
      "\u001b[1;31mTypeError\u001b[0m                                 Traceback (most recent call last)",
      "Cell \u001b[1;32mIn[11], line 2\u001b[0m\n\u001b[0;32m      1\u001b[0m a \u001b[38;5;241m=\u001b[39m {\u001b[38;5;241m10\u001b[39m,\u001b[38;5;241m20\u001b[39m,\u001b[38;5;241m30\u001b[39m,\u001b[38;5;241m10\u001b[39m,\u001b[38;5;241m20\u001b[39m,\u001b[38;5;241m40\u001b[39m}\n\u001b[1;32m----> 2\u001b[0m \u001b[38;5;28mprint\u001b[39m(\u001b[43ma\u001b[49m\u001b[43m[\u001b[49m\u001b[38;5;241;43m3\u001b[39;49m\u001b[43m]\u001b[49m)    \u001b[38;5;66;03m# index is not possible in sets \u001b[39;00m\n",
      "\u001b[1;31mTypeError\u001b[0m: 'set' object is not subscriptable"
     ]
    }
   ],
   "source": [
    "a = {10,20,30,10,20,40}\n",
    "print(a[3])    # index is not possible in sets "
   ]
  },
  {
   "cell_type": "code",
   "execution_count": 12,
   "id": "cfd2a34e",
   "metadata": {},
   "outputs": [
    {
     "ename": "TypeError",
     "evalue": "'set' object is not subscriptable",
     "output_type": "error",
     "traceback": [
      "\u001b[1;31m---------------------------------------------------------------------------\u001b[0m",
      "\u001b[1;31mTypeError\u001b[0m                                 Traceback (most recent call last)",
      "Cell \u001b[1;32mIn[12], line 3\u001b[0m\n\u001b[0;32m      1\u001b[0m \u001b[38;5;66;03m# try slicing \u001b[39;00m\n\u001b[0;32m      2\u001b[0m a \u001b[38;5;241m=\u001b[39m {\u001b[38;5;241m10\u001b[39m,\u001b[38;5;241m20\u001b[39m,\u001b[38;5;241m30\u001b[39m,\u001b[38;5;241m10\u001b[39m,\u001b[38;5;241m20\u001b[39m,\u001b[38;5;241m40\u001b[39m}\n\u001b[1;32m----> 3\u001b[0m \u001b[38;5;28mprint\u001b[39m(\u001b[43ma\u001b[49m\u001b[43m[\u001b[49m\u001b[43m:\u001b[49m\u001b[43m]\u001b[49m)\n",
      "\u001b[1;31mTypeError\u001b[0m: 'set' object is not subscriptable"
     ]
    }
   ],
   "source": [
    "# try slicing \n",
    "a = {10,20,30,10,20,40}\n",
    "print(a[:])"
   ]
  },
  {
   "cell_type": "code",
   "execution_count": 13,
   "id": "1cc66894",
   "metadata": {},
   "outputs": [
    {
     "ename": "TypeError",
     "evalue": "'set' object is not subscriptable",
     "output_type": "error",
     "traceback": [
      "\u001b[1;31m---------------------------------------------------------------------------\u001b[0m",
      "\u001b[1;31mTypeError\u001b[0m                                 Traceback (most recent call last)",
      "Cell \u001b[1;32mIn[13], line 3\u001b[0m\n\u001b[0;32m      1\u001b[0m \u001b[38;5;66;03m# try slicing \u001b[39;00m\n\u001b[0;32m      2\u001b[0m a \u001b[38;5;241m=\u001b[39m {\u001b[38;5;241m10\u001b[39m,\u001b[38;5;241m20\u001b[39m,\u001b[38;5;241m30\u001b[39m,\u001b[38;5;241m10\u001b[39m,\u001b[38;5;241m20\u001b[39m,\u001b[38;5;241m40\u001b[39m}\n\u001b[1;32m----> 3\u001b[0m \u001b[38;5;28mprint\u001b[39m(\u001b[43ma\u001b[49m\u001b[43m[\u001b[49m\u001b[43m:\u001b[49m\u001b[43m:\u001b[49m\u001b[38;5;241;43m-\u001b[39;49m\u001b[38;5;241;43m1\u001b[39;49m\u001b[43m]\u001b[49m)\n",
      "\u001b[1;31mTypeError\u001b[0m: 'set' object is not subscriptable"
     ]
    }
   ],
   "source": [
    "# try slicing \n",
    "a = {10,20,30,10,20,40}\n",
    "print(a[::-1])"
   ]
  },
  {
   "cell_type": "markdown",
   "id": "31880b2a",
   "metadata": {},
   "source": [
    "### know we need to prove that sets are mutable "
   ]
  },
  {
   "cell_type": "code",
   "execution_count": 14,
   "id": "529eee07",
   "metadata": {},
   "outputs": [
    {
     "name": "stdout",
     "output_type": "stream",
     "text": [
      "2\n"
     ]
    }
   ],
   "source": [
    "a = [10 , 15.5 , 'python' , (1,2,34)]\n",
    "print(a[3][1])"
   ]
  },
  {
   "cell_type": "markdown",
   "id": "b17029b7",
   "metadata": {},
   "source": [
    "## important functions \n",
    "- add\n",
    "- clear\n",
    "- copy\n",
    "- discard\n",
    "- intersection\n",
    "- union\n",
    "- pop \n",
    "- remove \n",
    "- update "
   ]
  },
  {
   "cell_type": "code",
   "execution_count": 16,
   "id": "157e6af8",
   "metadata": {},
   "outputs": [
    {
     "name": "stdout",
     "output_type": "stream",
     "text": [
      "{'python', 10, 15.5, 500, (1, 2, 34)}\n"
     ]
    }
   ],
   "source": [
    "# addition \n",
    "\n",
    "# add\n",
    "a = {10 , 15.5 , 'python' , (1,2,34)}\n",
    "a.add(500) # this 500 can be added anywhere in sets because there is no order for set \n",
    "print(a)"
   ]
  },
  {
   "cell_type": "code",
   "execution_count": 17,
   "id": "7a17e043",
   "metadata": {},
   "outputs": [
    {
     "ename": "TypeError",
     "evalue": "'set' object doesn't support item deletion",
     "output_type": "error",
     "traceback": [
      "\u001b[1;31m---------------------------------------------------------------------------\u001b[0m",
      "\u001b[1;31mTypeError\u001b[0m                                 Traceback (most recent call last)",
      "Cell \u001b[1;32mIn[17], line 3\u001b[0m\n\u001b[0;32m      1\u001b[0m \u001b[38;5;66;03m# deleting \u001b[39;00m\n\u001b[0;32m      2\u001b[0m a \u001b[38;5;241m=\u001b[39m {\u001b[38;5;241m10\u001b[39m , \u001b[38;5;241m15.5\u001b[39m , \u001b[38;5;124m'\u001b[39m\u001b[38;5;124mpython\u001b[39m\u001b[38;5;124m'\u001b[39m , (\u001b[38;5;241m1\u001b[39m,\u001b[38;5;241m2\u001b[39m,\u001b[38;5;241m34\u001b[39m)}\n\u001b[1;32m----> 3\u001b[0m \u001b[38;5;28;01mdel\u001b[39;00m a[\u001b[38;5;241m2\u001b[39m]   \u001b[38;5;66;03m# this is not possible because there is no index\u001b[39;00m\n",
      "\u001b[1;31mTypeError\u001b[0m: 'set' object doesn't support item deletion"
     ]
    }
   ],
   "source": [
    "# deleting \n",
    "a = {10 , 15.5 , 'python' , (1,2,34)}\n",
    "del a[2]   # this is not possible because there is no index"
   ]
  },
  {
   "cell_type": "code",
   "execution_count": 19,
   "id": "4932999c",
   "metadata": {},
   "outputs": [
    {
     "name": "stdout",
     "output_type": "stream",
     "text": [
      "[1, 2, 3]\n"
     ]
    }
   ],
   "source": [
    "a = [1,2,3,4]\n",
    "a.pop()\n",
    "print(a)"
   ]
  },
  {
   "cell_type": "code",
   "execution_count": 22,
   "id": "85e6ea00",
   "metadata": {},
   "outputs": [
    {
     "name": "stdout",
     "output_type": "stream",
     "text": [
      "{10, (1, 2, 34), 15.5}\n"
     ]
    }
   ],
   "source": [
    "# deleting [using pop]\n",
    "a = {10 , 15.5 , 'python' , (1,2,34)}\n",
    "a.pop()  # randomlly one value will be removed \n",
    "print(a)"
   ]
  },
  {
   "cell_type": "code",
   "execution_count": null,
   "id": "bd01ec05",
   "metadata": {},
   "outputs": [],
   "source": [
    "# discard = will remove the value if present or if the value is not present it will return the set as it is \n"
   ]
  },
  {
   "cell_type": "code",
   "execution_count": 25,
   "id": "93f46433",
   "metadata": {},
   "outputs": [
    {
     "name": "stdout",
     "output_type": "stream",
     "text": [
      "{'python', 10, (1, 2, 34), 15.5}\n"
     ]
    }
   ],
   "source": [
    "# deleting [using discard]\n",
    "a = {10 , 15.5 , 'python' , (1,2,34)}\n",
    "a.discard(100)\n",
    "print(a)"
   ]
  },
  {
   "cell_type": "code",
   "execution_count": 26,
   "id": "a4159ca8",
   "metadata": {},
   "outputs": [],
   "source": [
    "# remove = will remove the value if present or if the value is not present it will through an error"
   ]
  },
  {
   "cell_type": "code",
   "execution_count": 34,
   "id": "99f7dbc9",
   "metadata": {},
   "outputs": [
    {
     "ename": "KeyError",
     "evalue": "100",
     "output_type": "error",
     "traceback": [
      "\u001b[1;31m---------------------------------------------------------------------------\u001b[0m",
      "\u001b[1;31mKeyError\u001b[0m                                  Traceback (most recent call last)",
      "Cell \u001b[1;32mIn[34], line 3\u001b[0m\n\u001b[0;32m      1\u001b[0m \u001b[38;5;66;03m# deleting [using remove]\u001b[39;00m\n\u001b[0;32m      2\u001b[0m a \u001b[38;5;241m=\u001b[39m {\u001b[38;5;241m10\u001b[39m , \u001b[38;5;241m15.5\u001b[39m , \u001b[38;5;124m'\u001b[39m\u001b[38;5;124mpython\u001b[39m\u001b[38;5;124m'\u001b[39m , (\u001b[38;5;241m1\u001b[39m,\u001b[38;5;241m2\u001b[39m,\u001b[38;5;241m34\u001b[39m)}\n\u001b[1;32m----> 3\u001b[0m \u001b[43ma\u001b[49m\u001b[38;5;241;43m.\u001b[39;49m\u001b[43mremove\u001b[49m\u001b[43m(\u001b[49m\u001b[38;5;241;43m100\u001b[39;49m\u001b[43m)\u001b[49m\n\u001b[0;32m      4\u001b[0m \u001b[38;5;28mprint\u001b[39m(a)\n",
      "\u001b[1;31mKeyError\u001b[0m: 100"
     ]
    }
   ],
   "source": [
    "# deleting [using remove]\n",
    "a = {10 , 15.5 , 'python' , (1,2,34)}\n",
    "a.remove(100)\n",
    "print(a)"
   ]
  },
  {
   "cell_type": "code",
   "execution_count": 40,
   "id": "77c98389",
   "metadata": {},
   "outputs": [
    {
     "name": "stdout",
     "output_type": "stream",
     "text": [
      "{'A', 'python', 10, 15.5, (1, 2, 34), 'I'}\n"
     ]
    }
   ],
   "source": [
    "## replace is not possible in sets because index is not available \n",
    "## update means we can add more data [increasig the memory ]\n",
    "a = {10 , 15.5 , 'python' , (1,2,34)}\n",
    "a.update('AI')   # update is not a good approach\n",
    "print(a)"
   ]
  },
  {
   "cell_type": "code",
   "execution_count": 42,
   "id": "f912e748",
   "metadata": {},
   "outputs": [
    {
     "name": "stdout",
     "output_type": "stream",
     "text": [
      "{'python', 1000, 10, 15.5, 2000, 500, (1, 2, 34)}\n"
     ]
    }
   ],
   "source": [
    "a = {10 , 15.5 , 'python' , (1,2,34)}\n",
    "a.update([500,1000,2000])   # update is used to add multiple values at a time \n",
    "print(a)"
   ]
  },
  {
   "cell_type": "code",
   "execution_count": 41,
   "id": "e7324861",
   "metadata": {},
   "outputs": [
    {
     "ename": "TypeError",
     "evalue": "set.add() takes exactly one argument (2 given)",
     "output_type": "error",
     "traceback": [
      "\u001b[1;31m---------------------------------------------------------------------------\u001b[0m",
      "\u001b[1;31mTypeError\u001b[0m                                 Traceback (most recent call last)",
      "Cell \u001b[1;32mIn[41], line 5\u001b[0m\n\u001b[0;32m      1\u001b[0m \u001b[38;5;66;03m# addition \u001b[39;00m\n\u001b[0;32m      2\u001b[0m \n\u001b[0;32m      3\u001b[0m \u001b[38;5;66;03m# add\u001b[39;00m\n\u001b[0;32m      4\u001b[0m a \u001b[38;5;241m=\u001b[39m {\u001b[38;5;241m10\u001b[39m , \u001b[38;5;241m15.5\u001b[39m , \u001b[38;5;124m'\u001b[39m\u001b[38;5;124mpython\u001b[39m\u001b[38;5;124m'\u001b[39m , (\u001b[38;5;241m1\u001b[39m,\u001b[38;5;241m2\u001b[39m,\u001b[38;5;241m34\u001b[39m)}\n\u001b[1;32m----> 5\u001b[0m \u001b[43ma\u001b[49m\u001b[38;5;241;43m.\u001b[39;49m\u001b[43madd\u001b[49m\u001b[43m(\u001b[49m\u001b[38;5;241;43m500\u001b[39;49m\u001b[43m,\u001b[49m\u001b[38;5;241;43m10000\u001b[39;49m\u001b[43m)\u001b[49m \u001b[38;5;66;03m# this 500 can be added anywhere in sets because there is no order for set \u001b[39;00m\n\u001b[0;32m      6\u001b[0m \u001b[38;5;28mprint\u001b[39m(a)\n",
      "\u001b[1;31mTypeError\u001b[0m: set.add() takes exactly one argument (2 given)"
     ]
    }
   ],
   "source": [
    "# addition \n",
    "\n",
    "# add\n",
    "a = {10 , 15.5 , 'python' , (1,2,34)}\n",
    "a.add(500,10000) # this 500 can be added anywhere in sets because there is no order for set \n",
    "print(a)"
   ]
  },
  {
   "cell_type": "markdown",
   "id": "b36e60da",
   "metadata": {},
   "source": [
    "#### from the above concept we can say sets are Mutable "
   ]
  },
  {
   "cell_type": "code",
   "execution_count": 49,
   "id": "fc1346df",
   "metadata": {},
   "outputs": [
    {
     "name": "stdout",
     "output_type": "stream",
     "text": [
      "set()\n"
     ]
    }
   ],
   "source": [
    "# clear\n",
    "\n",
    "a = {10 , 15.5 , 'python' , (1,2,34)}\n",
    "a.clear() # remove entire data from the set it keeps only empty \n",
    "print(a)"
   ]
  },
  {
   "cell_type": "code",
   "execution_count": 48,
   "id": "a1f2ba30",
   "metadata": {},
   "outputs": [
    {
     "name": "stdout",
     "output_type": "stream",
     "text": [
      "<class 'set'>\n"
     ]
    }
   ],
   "source": [
    "a = set()\n",
    "print(type(a))"
   ]
  },
  {
   "cell_type": "code",
   "execution_count": 50,
   "id": "2908690d",
   "metadata": {},
   "outputs": [
    {
     "name": "stdout",
     "output_type": "stream",
     "text": [
      "{'python', 10, (1, 2, 34), 15.5}\n",
      "{'python', 10, (1, 2, 34), 15.5}\n"
     ]
    }
   ],
   "source": [
    "# copy \n",
    "a = {10 , 15.5 , 'python' , (1,2,34)}\n",
    "b = a.copy()\n",
    "print(a)\n",
    "print(b)"
   ]
  },
  {
   "cell_type": "code",
   "execution_count": 51,
   "id": "39f976f1",
   "metadata": {},
   "outputs": [
    {
     "name": "stdout",
     "output_type": "stream",
     "text": [
      "{1, 2, 4, 5, 7, 8, 9, 10, 11, 12}\n"
     ]
    }
   ],
   "source": [
    "# union = add all values \n",
    "a = {1,2,4,5,7,8,9,10}\n",
    "b = {5,11,12}\n",
    "print(a.union(b))"
   ]
  },
  {
   "cell_type": "code",
   "execution_count": 52,
   "id": "18fc6204",
   "metadata": {},
   "outputs": [
    {
     "name": "stdout",
     "output_type": "stream",
     "text": [
      "{5}\n"
     ]
    }
   ],
   "source": [
    "# intersection = common elements \n",
    "a = {1,2,4,5,7,8,9,10}\n",
    "b = {5,11,12}\n",
    "print(a.intersection(b))"
   ]
  },
  {
   "cell_type": "code",
   "execution_count": null,
   "id": "e511478a",
   "metadata": {},
   "outputs": [],
   "source": []
  }
 ],
 "metadata": {
  "kernelspec": {
   "display_name": "Python 3 (ipykernel)",
   "language": "python",
   "name": "python3"
  },
  "language_info": {
   "codemirror_mode": {
    "name": "ipython",
    "version": 3
   },
   "file_extension": ".py",
   "mimetype": "text/x-python",
   "name": "python",
   "nbconvert_exporter": "python",
   "pygments_lexer": "ipython3",
   "version": "3.11.3"
  }
 },
 "nbformat": 4,
 "nbformat_minor": 5
}
