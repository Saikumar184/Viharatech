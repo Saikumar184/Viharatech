{
 "cells": [
  {
   "cell_type": "code",
   "execution_count": 1,
   "id": "48653858",
   "metadata": {},
   "outputs": [],
   "source": [
    "# strings in memory Allocation "
   ]
  },
  {
   "cell_type": "markdown",
   "id": "0a8c3b23",
   "metadata": {},
   "source": [
    "### index concept "
   ]
  },
  {
   "cell_type": "code",
   "execution_count": 2,
   "id": "4c41017a",
   "metadata": {},
   "outputs": [
    {
     "name": "stdout",
     "output_type": "stream",
     "text": [
      "sharuk\n"
     ]
    }
   ],
   "source": [
    "a = 'sharuk' # saving in memory\n",
    "print(a)  # calling from memory"
   ]
  },
  {
   "cell_type": "code",
   "execution_count": 3,
   "id": "5803a99b",
   "metadata": {},
   "outputs": [
    {
     "name": "stdout",
     "output_type": "stream",
     "text": [
      "Dhoni\n"
     ]
    }
   ],
   "source": [
    "a = 'Dhoni' # saving in memory\n",
    "print(a)  # calling from memory"
   ]
  },
  {
   "cell_type": "code",
   "execution_count": 4,
   "id": "29d06c50",
   "metadata": {},
   "outputs": [
    {
     "name": "stdout",
     "output_type": "stream",
     "text": [
      "i\n"
     ]
    }
   ],
   "source": [
    "# call them using index \n",
    "a = 'Dhoni'\n",
    "print(a[4])"
   ]
  },
  {
   "cell_type": "code",
   "execution_count": 5,
   "id": "29656eb9",
   "metadata": {},
   "outputs": [
    {
     "name": "stdout",
     "output_type": "stream",
     "text": [
      "s\n"
     ]
    }
   ],
   "source": [
    "b = 'data science'\n",
    "print(b[5])"
   ]
  },
  {
   "cell_type": "code",
   "execution_count": 6,
   "id": "c4153c1a",
   "metadata": {},
   "outputs": [
    {
     "name": "stdout",
     "output_type": "stream",
     "text": [
      "s\n"
     ]
    }
   ],
   "source": [
    "# forward direction \n",
    "b = 'data science'\n",
    "print(b[5])"
   ]
  },
  {
   "cell_type": "code",
   "execution_count": 7,
   "id": "e7ba0315",
   "metadata": {},
   "outputs": [
    {
     "name": "stdout",
     "output_type": "stream",
     "text": [
      "s\n"
     ]
    }
   ],
   "source": [
    "# backward direction \n",
    "b = 'data science'\n",
    "print(b[-7])"
   ]
  },
  {
   "cell_type": "markdown",
   "id": "7415a696",
   "metadata": {},
   "source": [
    "### slicing operations on memory allocations \n"
   ]
  },
  {
   "cell_type": "code",
   "execution_count": 9,
   "id": "e7c0986e",
   "metadata": {},
   "outputs": [
    {
     "name": "stdout",
     "output_type": "stream",
     "text": [
      "at\n"
     ]
    }
   ],
   "source": [
    "a = 'data science'                    \n",
    "print(a[1:3])"
   ]
  },
  {
   "cell_type": "code",
   "execution_count": 10,
   "id": "10d6c8da",
   "metadata": {},
   "outputs": [
    {
     "name": "stdout",
     "output_type": "stream",
     "text": [
      "ata\n"
     ]
    }
   ],
   "source": [
    "# keeping n-1 concept in mind \n",
    "print(a[1:4])"
   ]
  },
  {
   "cell_type": "code",
   "execution_count": 11,
   "id": "7c5a0649",
   "metadata": {},
   "outputs": [
    {
     "name": "stdout",
     "output_type": "stream",
     "text": [
      "ta sci\n"
     ]
    }
   ],
   "source": [
    "# can we apply in backward direction index concept:\n",
    "a = 'data science'                    \n",
    "print(a[2:8])"
   ]
  },
  {
   "cell_type": "code",
   "execution_count": 12,
   "id": "04b975d8",
   "metadata": {},
   "outputs": [
    {
     "name": "stdout",
     "output_type": "stream",
     "text": [
      "ta sci\n"
     ]
    }
   ],
   "source": [
    "# same with backward direction \n",
    "a = 'data science'                    \n",
    "print(a[-10:-4])"
   ]
  },
  {
   "cell_type": "code",
   "execution_count": 13,
   "id": "6b263ccc",
   "metadata": {},
   "outputs": [
    {
     "name": "stdout",
     "output_type": "stream",
     "text": [
      "ve python prog\n"
     ]
    }
   ],
   "source": [
    "a = 'I love python programming'\n",
    "print(a[4:18])"
   ]
  },
  {
   "cell_type": "code",
   "execution_count": 14,
   "id": "6976b281",
   "metadata": {},
   "outputs": [],
   "source": [
    "# can we do skipping concept in memory [yes]\n"
   ]
  },
  {
   "cell_type": "markdown",
   "id": "17a900a6",
   "metadata": {},
   "source": [
    "### Skipping concept "
   ]
  },
  {
   "cell_type": "code",
   "execution_count": 16,
   "id": "bd4ac063",
   "metadata": {},
   "outputs": [
    {
     "name": "stdout",
     "output_type": "stream",
     "text": [
      "data science\n",
      "data science\n"
     ]
    }
   ],
   "source": [
    "a = 'data science'\n",
    "print(a)\n",
    "print(a[:])  # using slicing concept "
   ]
  },
  {
   "cell_type": "code",
   "execution_count": 23,
   "id": "8753c3d0",
   "metadata": {},
   "outputs": [
    {
     "name": "stdout",
     "output_type": "stream",
     "text": [
      "data scienc\n"
     ]
    }
   ],
   "source": [
    "a = 'data science'\n",
    "print(a[0:-1])  # not recommended\n",
    "# full string cant access using one positive and one negative value:\n"
   ]
  },
  {
   "cell_type": "code",
   "execution_count": 24,
   "id": "366d99f1",
   "metadata": {},
   "outputs": [
    {
     "name": "stdout",
     "output_type": "stream",
     "text": [
      "ecneics atad\n"
     ]
    }
   ],
   "source": [
    "a = 'data science'  # reversing the string \n",
    "print(a[::-1])  # from starting  till the end reverse "
   ]
  },
  {
   "cell_type": "code",
   "execution_count": 25,
   "id": "8f80473b",
   "metadata": {},
   "outputs": [
    {
     "name": "stdout",
     "output_type": "stream",
     "text": [
      "atfca\n"
     ]
    }
   ],
   "source": [
    "# skipping concept \n",
    "a = 'artificial'\n",
    "print(a[::2])"
   ]
  },
  {
   "cell_type": "code",
   "execution_count": 26,
   "id": "134cdffd",
   "metadata": {},
   "outputs": [
    {
     "name": "stdout",
     "output_type": "stream",
     "text": [
      "dacn tn\n"
     ]
    }
   ],
   "source": [
    "a = 'data science python'\n",
    "print(a[::3])"
   ]
  },
  {
   "cell_type": "code",
   "execution_count": 27,
   "id": "ea91d80b",
   "metadata": {},
   "outputs": [],
   "source": [
    "# strings are immutable [we cant change memory space]\n",
    "# to make it proved we need to do [adding , deleting and replacing]"
   ]
  },
  {
   "cell_type": "code",
   "execution_count": 28,
   "id": "e0cc57be",
   "metadata": {},
   "outputs": [
    {
     "ename": "TypeError",
     "evalue": "'str' object does not support item assignment",
     "output_type": "error",
     "traceback": [
      "\u001b[1;31m---------------------------------------------------------------------------\u001b[0m",
      "\u001b[1;31mTypeError\u001b[0m                                 Traceback (most recent call last)",
      "Cell \u001b[1;32mIn[28], line 4\u001b[0m\n\u001b[0;32m      1\u001b[0m \u001b[38;5;66;03m### Adding a new memory space \u001b[39;00m\n\u001b[0;32m      3\u001b[0m a \u001b[38;5;241m=\u001b[39m \u001b[38;5;124m'\u001b[39m\u001b[38;5;124mdata science\u001b[39m\u001b[38;5;124m'\u001b[39m  \u001b[38;5;66;03m#saving in memory\u001b[39;00m\n\u001b[1;32m----> 4\u001b[0m \u001b[43ma\u001b[49m\u001b[43m[\u001b[49m\u001b[38;5;241;43m12\u001b[39;49m\u001b[43m]\u001b[49m \u001b[38;5;241m=\u001b[39m \u001b[38;5;124m'\u001b[39m\u001b[38;5;124mK\u001b[39m\u001b[38;5;124m'\u001b[39m   \u001b[38;5;66;03m# creating new index and filling character \u001b[39;00m\n\u001b[0;32m      5\u001b[0m \u001b[38;5;28mprint\u001b[39m(a)    \u001b[38;5;66;03m# calling \u001b[39;00m\n",
      "\u001b[1;31mTypeError\u001b[0m: 'str' object does not support item assignment"
     ]
    }
   ],
   "source": [
    "### Adding a new memory space \n",
    "\n",
    "a = 'data science'  #saving in memory\n",
    "a[12] = 'K'   # creating new index and filling character \n",
    "print(a)    # calling "
   ]
  },
  {
   "cell_type": "code",
   "execution_count": 29,
   "id": "b4164dd1",
   "metadata": {},
   "outputs": [
    {
     "ename": "TypeError",
     "evalue": "'str' object doesn't support item deletion",
     "output_type": "error",
     "traceback": [
      "\u001b[1;31m---------------------------------------------------------------------------\u001b[0m",
      "\u001b[1;31mTypeError\u001b[0m                                 Traceback (most recent call last)",
      "Cell \u001b[1;32mIn[29], line 4\u001b[0m\n\u001b[0;32m      1\u001b[0m \u001b[38;5;66;03m### deleting \u001b[39;00m\n\u001b[0;32m      3\u001b[0m a \u001b[38;5;241m=\u001b[39m \u001b[38;5;124m'\u001b[39m\u001b[38;5;124mdata science\u001b[39m\u001b[38;5;124m'\u001b[39m  \u001b[38;5;66;03m#saving in memory\u001b[39;00m\n\u001b[1;32m----> 4\u001b[0m \u001b[38;5;28;01mdel\u001b[39;00m a[\u001b[38;5;241m7\u001b[39m]   \u001b[38;5;66;03m# deleting \u001b[39;00m\n\u001b[0;32m      5\u001b[0m \u001b[38;5;28mprint\u001b[39m(a)  \u001b[38;5;66;03m# calling \u001b[39;00m\n",
      "\u001b[1;31mTypeError\u001b[0m: 'str' object doesn't support item deletion"
     ]
    }
   ],
   "source": [
    "### deleting \n",
    "\n",
    "a = 'data science'  #saving in memory\n",
    "del a[7]   # deleting \n",
    "print(a)  # calling \n"
   ]
  },
  {
   "cell_type": "code",
   "execution_count": 30,
   "id": "0a820324",
   "metadata": {},
   "outputs": [
    {
     "ename": "TypeError",
     "evalue": "'str' object does not support item assignment",
     "output_type": "error",
     "traceback": [
      "\u001b[1;31m---------------------------------------------------------------------------\u001b[0m",
      "\u001b[1;31mTypeError\u001b[0m                                 Traceback (most recent call last)",
      "Cell \u001b[1;32mIn[30], line 4\u001b[0m\n\u001b[0;32m      1\u001b[0m \u001b[38;5;66;03m## replacing is not possible with index \u001b[39;00m\n\u001b[0;32m      3\u001b[0m a \u001b[38;5;241m=\u001b[39m \u001b[38;5;124m'\u001b[39m\u001b[38;5;124mdata science\u001b[39m\u001b[38;5;124m'\u001b[39m\n\u001b[1;32m----> 4\u001b[0m \u001b[43ma\u001b[49m\u001b[43m[\u001b[49m\u001b[38;5;241;43m9\u001b[39;49m\u001b[43m]\u001b[49m \u001b[38;5;241m=\u001b[39m \u001b[38;5;124m'\u001b[39m\u001b[38;5;124mK\u001b[39m\u001b[38;5;124m'\u001b[39m\n\u001b[0;32m      5\u001b[0m \u001b[38;5;28mprint\u001b[39m(a)\n",
      "\u001b[1;31mTypeError\u001b[0m: 'str' object does not support item assignment"
     ]
    }
   ],
   "source": [
    "## replacing is not possible with index but using string methods they are possible \n",
    "\n",
    "a = 'data science'\n",
    "a[9] = 'K'\n",
    "print(a)"
   ]
  },
  {
   "cell_type": "code",
   "execution_count": 33,
   "id": "196fae8c",
   "metadata": {},
   "outputs": [
    {
     "name": "stdout",
     "output_type": "stream",
     "text": [
      "data science\n",
      "data scieKce\n"
     ]
    }
   ],
   "source": [
    "a = 'data science'  # use tab button to get methods\n",
    "print(a)\n",
    "a = a.replace('n','K')  # use shift + tab to get information about a methods \n",
    "print(a)"
   ]
  },
  {
   "cell_type": "code",
   "execution_count": 34,
   "id": "c0a1a397",
   "metadata": {},
   "outputs": [
    {
     "name": "stdout",
     "output_type": "stream",
     "text": [
      "data science nnnkamal\n",
      "data scieKce KKKkamal\n"
     ]
    }
   ],
   "source": [
    "a = 'data science nnnkamal'  # use tab button to get methods\n",
    "print(a)\n",
    "a = a.replace('n','K')  # use shift + tab to get information about a methods \n",
    "print(a)"
   ]
  },
  {
   "cell_type": "code",
   "execution_count": 39,
   "id": "ec9f02d2",
   "metadata": {},
   "outputs": [
    {
     "name": "stdout",
     "output_type": "stream",
     "text": [
      "data science nnnkamal\n",
      "data scieKce Knnkamal\n"
     ]
    }
   ],
   "source": [
    "a = 'data science nnnkamal'  # use tab button to get methods\n",
    "print(a)\n",
    "a = a.replace('n','K',2)  # use shift + tab to get information about a methods \n",
    "print(a)"
   ]
  },
  {
   "cell_type": "markdown",
   "id": "fef8aa2f",
   "metadata": {},
   "source": [
    "`From the above conditions we can strongly say that strings are immutable [we cant change]`"
   ]
  },
  {
   "cell_type": "markdown",
   "id": "a1c39b5a",
   "metadata": {},
   "source": [
    "### lets study about some important methods in strings \n"
   ]
  },
  {
   "cell_type": "markdown",
   "id": "06e01d20",
   "metadata": {},
   "source": [
    "`Required methods from strings to data science`\n",
    "\n",
    "- capitalize \n",
    "- title \n",
    "- count \n",
    "- index \n",
    "- startswith \n",
    "- endswith \n",
    "- islower \n",
    "- isupper \n",
    "- lower \n",
    "- upper \n",
    "- isalnum\n",
    "- isdecimal \n",
    "- isaplha \n",
    "- isdigit\n",
    "- split\n",
    "- join \n",
    "- replace"
   ]
  },
  {
   "cell_type": "code",
   "execution_count": 10,
   "id": "4c93bf8a",
   "metadata": {},
   "outputs": [],
   "source": [
    "a = 'data science'"
   ]
  },
  {
   "cell_type": "code",
   "execution_count": 12,
   "id": "3fe5409f",
   "metadata": {},
   "outputs": [
    {
     "name": "stdout",
     "output_type": "stream",
     "text": [
      "Data science\n"
     ]
    }
   ],
   "source": [
    "# capitlize : is used to convert starting letter into capital letter \n",
    "a = a.capitalize()  # we are going to use this in NLP [speech recognition]\n",
    "print(a)"
   ]
  },
  {
   "cell_type": "code",
   "execution_count": null,
   "id": "f92f7f58",
   "metadata": {},
   "outputs": [],
   "source": [
    "# functions or methods all are same \n",
    "# which you passed inside method is called parameters:\n"
   ]
  },
  {
   "cell_type": "code",
   "execution_count": 1,
   "id": "86e04d7f",
   "metadata": {},
   "outputs": [
    {
     "name": "stdout",
     "output_type": "stream",
     "text": [
      "Data Science Python Artificial Intelligence\n"
     ]
    }
   ],
   "source": [
    "# title : is used to make each word starting letter as capital letter:\n",
    "a = 'data science python artificial intelligence'\n",
    "a = a.title()\n",
    "print(a)"
   ]
  },
  {
   "cell_type": "code",
   "execution_count": 4,
   "id": "5e823679",
   "metadata": {},
   "outputs": [
    {
     "name": "stdout",
     "output_type": "stream",
     "text": [
      "5\n"
     ]
    }
   ],
   "source": [
    "# count : is used to count the number of a character [repeting]\n",
    "a = 'data science python artificial intelligence'\n",
    "print(a.count('e'))"
   ]
  },
  {
   "cell_type": "code",
   "execution_count": 5,
   "id": "e32ec7c9",
   "metadata": {},
   "outputs": [
    {
     "name": "stdout",
     "output_type": "stream",
     "text": [
      "1\n"
     ]
    }
   ],
   "source": [
    "# index : used to find the index of the given character \n",
    "\n",
    "a = 'data science python artificial intelligence'\n",
    "print(a.index('a')) #index work with starting occurences "
   ]
  },
  {
   "cell_type": "code",
   "execution_count": 6,
   "id": "64094673",
   "metadata": {},
   "outputs": [
    {
     "name": "stdout",
     "output_type": "stream",
     "text": [
      "3\n"
     ]
    }
   ],
   "source": [
    "\n",
    "a = 'data science python artificial intelligence'\n",
    "print(a.index('a',2,15))"
   ]
  },
  {
   "cell_type": "code",
   "execution_count": 45,
   "id": "e55e9e5e",
   "metadata": {},
   "outputs": [
    {
     "name": "stdout",
     "output_type": "stream",
     "text": [
      "20\n"
     ]
    }
   ],
   "source": [
    "\n",
    "a = 'data science python artificial intelligence'\n",
    "print(a.index('a',5,30))"
   ]
  },
  {
   "cell_type": "code",
   "execution_count": 8,
   "id": "563e6ece",
   "metadata": {},
   "outputs": [
    {
     "name": "stdout",
     "output_type": "stream",
     "text": [
      "True\n"
     ]
    }
   ],
   "source": [
    "# startswith : gives booles outcomes like [True or False]\n",
    "\n",
    "a = 'python'\n",
    "print(a.startswith('p'))"
   ]
  },
  {
   "cell_type": "code",
   "execution_count": 9,
   "id": "c371b731",
   "metadata": {},
   "outputs": [
    {
     "name": "stdout",
     "output_type": "stream",
     "text": [
      "False\n"
     ]
    }
   ],
   "source": [
    "\n",
    "a = 'python'\n",
    "print(a.startswith('g'))"
   ]
  },
  {
   "cell_type": "code",
   "execution_count": 12,
   "id": "63f5c6f5",
   "metadata": {},
   "outputs": [
    {
     "name": "stdout",
     "output_type": "stream",
     "text": [
      "True\n"
     ]
    }
   ],
   "source": [
    "a = 'python'\n",
    "print(a.startswith('py'))"
   ]
  },
  {
   "cell_type": "code",
   "execution_count": 13,
   "id": "cdbec053",
   "metadata": {},
   "outputs": [
    {
     "name": "stdout",
     "output_type": "stream",
     "text": [
      "False\n"
     ]
    }
   ],
   "source": [
    "# endswith : gives booles outcomes like [True or False]\n",
    "a = 'python'\n",
    "print(a.endswith('pt'))"
   ]
  },
  {
   "cell_type": "code",
   "execution_count": 14,
   "id": "795ab44a",
   "metadata": {},
   "outputs": [
    {
     "name": "stdout",
     "output_type": "stream",
     "text": [
      "True\n"
     ]
    }
   ],
   "source": [
    "a = 'python'\n",
    "print(a.endswith('on'))"
   ]
  },
  {
   "cell_type": "code",
   "execution_count": 15,
   "id": "2013afa8",
   "metadata": {},
   "outputs": [
    {
     "name": "stdout",
     "output_type": "stream",
     "text": [
      "python\n"
     ]
    }
   ],
   "source": [
    "# lower : will convert each charater to lower case[if capital letters means it will convert to small letters]\n",
    "\n",
    "a = 'PYTHON'\n",
    "print(a.lower())"
   ]
  },
  {
   "cell_type": "code",
   "execution_count": 17,
   "id": "a99d4957",
   "metadata": {},
   "outputs": [
    {
     "name": "stdout",
     "output_type": "stream",
     "text": [
      "python\n"
     ]
    }
   ],
   "source": [
    "a = 'pythON'\n",
    "print(a.lower())"
   ]
  },
  {
   "cell_type": "code",
   "execution_count": 18,
   "id": "998207df",
   "metadata": {},
   "outputs": [
    {
     "name": "stdout",
     "output_type": "stream",
     "text": [
      "PYTHON\n"
     ]
    }
   ],
   "source": [
    "# upper : will convert each charater to upper case[if small letters means it will convert to capital letters]\n",
    "a = 'python'\n",
    "print(a.upper())"
   ]
  },
  {
   "cell_type": "code",
   "execution_count": 19,
   "id": "f57148de",
   "metadata": {},
   "outputs": [
    {
     "name": "stdout",
     "output_type": "stream",
     "text": [
      "PYTHON\n"
     ]
    }
   ],
   "source": [
    "a = 'PYthon'\n",
    "print(a.upper())"
   ]
  },
  {
   "cell_type": "code",
   "execution_count": 20,
   "id": "6297d2dc",
   "metadata": {},
   "outputs": [
    {
     "name": "stdout",
     "output_type": "stream",
     "text": [
      "True\n"
     ]
    }
   ],
   "source": [
    "# islower : this method will check whether the vairable is holding small letters or not [boolean outcome]\n",
    "a = 'python'\n",
    "print(a.islower())"
   ]
  },
  {
   "cell_type": "code",
   "execution_count": 21,
   "id": "aa7eba63",
   "metadata": {},
   "outputs": [
    {
     "name": "stdout",
     "output_type": "stream",
     "text": [
      "False\n"
     ]
    }
   ],
   "source": [
    "# islower : this method will check whether the vairable is holding small letters or not [boolean outcome]\n",
    "a = 'pyThon'\n",
    "print(a.islower())"
   ]
  },
  {
   "cell_type": "code",
   "execution_count": 22,
   "id": "adb48fa1",
   "metadata": {},
   "outputs": [
    {
     "name": "stdout",
     "output_type": "stream",
     "text": [
      "True\n"
     ]
    }
   ],
   "source": [
    "# isupper : this method will check whether the vairable is holding capital letters or not [boolean outcome]\n",
    "a = 'PYTHON'\n",
    "print(a.isupper())"
   ]
  },
  {
   "cell_type": "code",
   "execution_count": 23,
   "id": "e01b7fb6",
   "metadata": {},
   "outputs": [
    {
     "name": "stdout",
     "output_type": "stream",
     "text": [
      "False\n"
     ]
    }
   ],
   "source": [
    "a = 'PYTHoN'\n",
    "print(a.isupper())"
   ]
  },
  {
   "cell_type": "code",
   "execution_count": 24,
   "id": "d718db16",
   "metadata": {},
   "outputs": [
    {
     "name": "stdout",
     "output_type": "stream",
     "text": [
      "True\n"
     ]
    }
   ],
   "source": [
    "# isalpha : this method is used to find whether all the charater in a string is alphabets or not:[boolean outcome][abcd...]\n",
    "a = 'python'\n",
    "print(a.isalpha())"
   ]
  },
  {
   "cell_type": "code",
   "execution_count": 25,
   "id": "e79efe75",
   "metadata": {},
   "outputs": [
    {
     "name": "stdout",
     "output_type": "stream",
     "text": [
      "False\n"
     ]
    }
   ],
   "source": [
    "# isalpha : this method is used to find whether all the charater in a string is alphabets or not:[boolean outcome][abcd...]\n",
    "a = 'python123'\n",
    "print(a.isalpha())"
   ]
  },
  {
   "cell_type": "code",
   "execution_count": 26,
   "id": "8a0bb0a5",
   "metadata": {},
   "outputs": [
    {
     "name": "stdout",
     "output_type": "stream",
     "text": [
      "False\n"
     ]
    }
   ],
   "source": [
    "# isalpha : this method is used to find whether all the charater in a string is alphabets or not:[boolean outcome][abcd...]\n",
    "a = '1234'\n",
    "print(a.isalpha())"
   ]
  },
  {
   "cell_type": "code",
   "execution_count": 28,
   "id": "850d9b65",
   "metadata": {},
   "outputs": [
    {
     "name": "stdout",
     "output_type": "stream",
     "text": [
      "True\n"
     ]
    }
   ],
   "source": [
    "# isdigit : this method is used to find whether all the inputs in a string is numbers or not:[boolean outcome]\n",
    "a = '1234'\n",
    "print(a.isdigit())"
   ]
  },
  {
   "cell_type": "code",
   "execution_count": 29,
   "id": "b5a3c2b7",
   "metadata": {},
   "outputs": [
    {
     "name": "stdout",
     "output_type": "stream",
     "text": [
      "False\n"
     ]
    }
   ],
   "source": [
    "# isdigit : this method is used to find whether all the inputs in a string is numbers or not:[boolean outcome]\n",
    "a = 'python1234'\n",
    "print(a.isdigit())"
   ]
  },
  {
   "cell_type": "code",
   "execution_count": 32,
   "id": "5bc61c74",
   "metadata": {},
   "outputs": [
    {
     "name": "stdout",
     "output_type": "stream",
     "text": [
      "False\n"
     ]
    }
   ],
   "source": [
    "# isdigit : this method is used to find whether all the inputs in a string is numbers or not:[boolean outcome]\n",
    "a = '1234.0'\n",
    "print(a.isdigit())"
   ]
  },
  {
   "cell_type": "code",
   "execution_count": 30,
   "id": "883ff284",
   "metadata": {},
   "outputs": [
    {
     "name": "stdout",
     "output_type": "stream",
     "text": [
      "False\n"
     ]
    }
   ],
   "source": [
    "# isdecimal : this method is used to find whether all the inputs in a string is numbers[floating or int] or not:[boolean outcome]\n",
    "a = 'python1234'\n",
    "print(a.isdecimal())"
   ]
  },
  {
   "cell_type": "code",
   "execution_count": 35,
   "id": "e6cec718",
   "metadata": {},
   "outputs": [
    {
     "name": "stdout",
     "output_type": "stream",
     "text": [
      "False\n"
     ]
    }
   ],
   "source": [
    "a = '12345.1'\n",
    "print(a.isdecimal())"
   ]
  },
  {
   "cell_type": "code",
   "execution_count": 36,
   "id": "135e988e",
   "metadata": {},
   "outputs": [
    {
     "name": "stdout",
     "output_type": "stream",
     "text": [
      "True\n"
     ]
    }
   ],
   "source": [
    "# isalphanu: is used to find wheter the given inputs have num,alphabets \n",
    "\n",
    "a = 'python'\n",
    "print(a.isalnum())"
   ]
  },
  {
   "cell_type": "code",
   "execution_count": 37,
   "id": "31aa9465",
   "metadata": {},
   "outputs": [
    {
     "name": "stdout",
     "output_type": "stream",
     "text": [
      "True\n"
     ]
    }
   ],
   "source": [
    "a = '1234'\n",
    "print(a.isalnum())"
   ]
  },
  {
   "cell_type": "code",
   "execution_count": 38,
   "id": "20dc8c4b",
   "metadata": {},
   "outputs": [
    {
     "name": "stdout",
     "output_type": "stream",
     "text": [
      "True\n"
     ]
    }
   ],
   "source": [
    "a = 'python1234'\n",
    "print(a.isalnum())"
   ]
  },
  {
   "cell_type": "code",
   "execution_count": 39,
   "id": "6a238795",
   "metadata": {},
   "outputs": [
    {
     "name": "stdout",
     "output_type": "stream",
     "text": [
      "False\n"
     ]
    }
   ],
   "source": [
    "a = '%'\n",
    "print(a.isalnum())"
   ]
  },
  {
   "cell_type": "code",
   "execution_count": 50,
   "id": "ebc8c690",
   "metadata": {},
   "outputs": [
    {
     "name": "stdout",
     "output_type": "stream",
     "text": [
      "True\n",
      "False\n"
     ]
    }
   ],
   "source": [
    "# membership function in strings:used to find whether the given substring is present in main string or not:[boolean]\n",
    "\n",
    "a = 'python data science'  # main string \n",
    "\n",
    "print('pyt' in a)  # 'python' is substring\n",
    "print('kaaml' in a) # 'kaaml' is substring"
   ]
  },
  {
   "cell_type": "code",
   "execution_count": 51,
   "id": "4d3276b4",
   "metadata": {},
   "outputs": [
    {
     "data": {
      "text/plain": [
       "'DeepStream allows developers to deploy deep learning models and AI algorithms to analyze video streams in real-time. It can process multiple video streams simultaneously and extract meaningful insights from the data.'"
      ]
     },
     "execution_count": 51,
     "metadata": {},
     "output_type": "execute_result"
    }
   ],
   "source": [
    "a = 'DeepStream allows developers to deploy deep learning models and AI algorithms to analyze video streams in real-time. It can process multiple video streams simultaneously and extract meaningful insights from the data.'\n",
    "a"
   ]
  },
  {
   "cell_type": "code",
   "execution_count": 53,
   "id": "f22089be",
   "metadata": {},
   "outputs": [
    {
     "name": "stdout",
     "output_type": "stream",
     "text": [
      "True\n"
     ]
    }
   ],
   "source": [
    "print('algorithms' in a)"
   ]
  },
  {
   "cell_type": "code",
   "execution_count": 54,
   "id": "1e637435",
   "metadata": {},
   "outputs": [],
   "source": [
    "# what are green color words [why they are special]\n",
    "# they are known as keywords in python [its defaulty available when we install software]\n",
    "# we need to import package \n",
    "# once importing we have access to use the functions which are available in that particular package \n"
   ]
  },
  {
   "cell_type": "code",
   "execution_count": 59,
   "id": "3bb10a19",
   "metadata": {},
   "outputs": [
    {
     "name": "stdout",
     "output_type": "stream",
     "text": [
      "['False', 'None', 'True', '__peg_parser__', 'and', 'as', 'assert', 'async', 'await', 'break', 'class', 'continue', 'def', 'del', 'elif', 'else', 'except', 'finally', 'for', 'from', 'global', 'if', 'import', 'in', 'is', 'lambda', 'nonlocal', 'not', 'or', 'pass', 'raise', 'return', 'try', 'while', 'with', 'yield']\n"
     ]
    }
   ],
   "source": [
    "import keyword\n",
    "print(keyword.kwlist)"
   ]
  },
  {
   "cell_type": "code",
   "execution_count": 60,
   "id": "6e2d25a7",
   "metadata": {},
   "outputs": [
    {
     "name": "stdout",
     "output_type": "stream",
     "text": [
      "True\n"
     ]
    }
   ],
   "source": [
    "## some math operation:in strings if we want to do math operations will use ascii concept \n",
    "# Ascii = American Standard Code for Information Interchange\n",
    "\n",
    "value1 = 'ab'\n",
    "value2 = 'AB'\n",
    "\n",
    "print(value1 > value2)"
   ]
  },
  {
   "cell_type": "code",
   "execution_count": 61,
   "id": "80114b1a",
   "metadata": {},
   "outputs": [
    {
     "name": "stdout",
     "output_type": "stream",
     "text": [
      "97\n"
     ]
    }
   ],
   "source": [
    "# to prove : will change character to Ascii value by using ord \n",
    "\n",
    "val = 'a'\n",
    "print(ord(val))"
   ]
  },
  {
   "cell_type": "code",
   "execution_count": 62,
   "id": "8b2c96be",
   "metadata": {},
   "outputs": [
    {
     "data": {
      "text/plain": [
       "122"
      ]
     },
     "execution_count": 62,
     "metadata": {},
     "output_type": "execute_result"
    }
   ],
   "source": [
    "ord('z')"
   ]
  },
  {
   "cell_type": "code",
   "execution_count": 63,
   "id": "1241e9df",
   "metadata": {},
   "outputs": [
    {
     "data": {
      "text/plain": [
       "66"
      ]
     },
     "execution_count": 63,
     "metadata": {},
     "output_type": "execute_result"
    }
   ],
   "source": [
    "ord('B')"
   ]
  },
  {
   "cell_type": "code",
   "execution_count": 64,
   "id": "43c70fae",
   "metadata": {},
   "outputs": [
    {
     "data": {
      "text/plain": [
       "90"
      ]
     },
     "execution_count": 64,
     "metadata": {},
     "output_type": "execute_result"
    }
   ],
   "source": [
    "ord('Z')"
   ]
  },
  {
   "cell_type": "code",
   "execution_count": 65,
   "id": "29df8b20",
   "metadata": {},
   "outputs": [
    {
     "name": "stdout",
     "output_type": "stream",
     "text": [
      "a\n"
     ]
    }
   ],
   "source": [
    "# know give the value and find its alphabets [chr is used to find the ascii character]\n",
    "\n",
    "val=97\n",
    "print(chr(val))"
   ]
  },
  {
   "cell_type": "code",
   "execution_count": 66,
   "id": "e188d035",
   "metadata": {},
   "outputs": [
    {
     "data": {
      "text/plain": [
       "'z'"
      ]
     },
     "execution_count": 66,
     "metadata": {},
     "output_type": "execute_result"
    }
   ],
   "source": [
    "chr(122)"
   ]
  },
  {
   "cell_type": "code",
   "execution_count": 67,
   "id": "fe681b04",
   "metadata": {},
   "outputs": [
    {
     "data": {
      "text/plain": [
       "'Z'"
      ]
     },
     "execution_count": 67,
     "metadata": {},
     "output_type": "execute_result"
    }
   ],
   "source": [
    "chr(90)"
   ]
  },
  {
   "cell_type": "code",
   "execution_count": 68,
   "id": "28c7eedb",
   "metadata": {},
   "outputs": [
    {
     "data": {
      "text/plain": [
       "'C'"
      ]
     },
     "execution_count": 68,
     "metadata": {},
     "output_type": "execute_result"
    }
   ],
   "source": [
    "chr(67)"
   ]
  },
  {
   "cell_type": "code",
   "execution_count": 70,
   "id": "745a7d4a",
   "metadata": {},
   "outputs": [
    {
     "name": "stdout",
     "output_type": "stream",
     "text": [
      "11\n"
     ]
    }
   ],
   "source": [
    "# len = is used to find the number of characters:\n",
    "\n",
    "a = 'python data'\n",
    "print(len(a))"
   ]
  },
  {
   "cell_type": "code",
   "execution_count": null,
   "id": "2ae44481",
   "metadata": {},
   "outputs": [],
   "source": []
  }
 ],
 "metadata": {
  "kernelspec": {
   "display_name": "Python 3 (ipykernel)",
   "language": "python",
   "name": "python3"
  },
  "language_info": {
   "codemirror_mode": {
    "name": "ipython",
    "version": 3
   },
   "file_extension": ".py",
   "mimetype": "text/x-python",
   "name": "python",
   "nbconvert_exporter": "python",
   "pygments_lexer": "ipython3",
   "version": "3.9.13"
  }
 },
 "nbformat": 4,
 "nbformat_minor": 5
}
