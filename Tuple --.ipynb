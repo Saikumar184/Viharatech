{
 "cells": [
  {
   "cell_type": "code",
   "execution_count": 10,
   "id": "a95bfb68",
   "metadata": {},
   "outputs": [],
   "source": [
    "# tuple is immutable [you cant change anything]\n",
    "# tuple will be represented in the form of parenthesis (here we can pass any data type)\n",
    "# we will be having only 2 predefined methods "
   ]
  },
  {
   "cell_type": "code",
   "execution_count": 2,
   "id": "c627a1a6",
   "metadata": {},
   "outputs": [
    {
     "name": "stdout",
     "output_type": "stream",
     "text": [
      "(10, 15.5, 'python')\n",
      "<class 'tuple'>\n"
     ]
    }
   ],
   "source": [
    "a = (10 , 15.5 , 'python')\n",
    "print(a)\n",
    "print(type(a))"
   ]
  },
  {
   "cell_type": "code",
   "execution_count": 3,
   "id": "c5261ded",
   "metadata": {},
   "outputs": [
    {
     "name": "stdout",
     "output_type": "stream",
     "text": [
      "10 <class 'int'>\n"
     ]
    }
   ],
   "source": [
    "a = 10\n",
    "print(a , type(a))"
   ]
  },
  {
   "cell_type": "code",
   "execution_count": 4,
   "id": "fda6544c",
   "metadata": {},
   "outputs": [
    {
     "name": "stdout",
     "output_type": "stream",
     "text": [
      "(10,) <class 'tuple'>\n"
     ]
    }
   ],
   "source": [
    "a = 10,\n",
    "print(a , type(a))"
   ]
  },
  {
   "cell_type": "code",
   "execution_count": 5,
   "id": "99544a61",
   "metadata": {},
   "outputs": [
    {
     "name": "stdout",
     "output_type": "stream",
     "text": [
      "(10, 20) <class 'tuple'>\n"
     ]
    }
   ],
   "source": [
    "a = 10,20\n",
    "print(a , type(a))"
   ]
  },
  {
   "cell_type": "code",
   "execution_count": 6,
   "id": "6d94406f",
   "metadata": {},
   "outputs": [
    {
     "name": "stdout",
     "output_type": "stream",
     "text": [
      "15.5\n"
     ]
    }
   ],
   "source": [
    "# use index here \n",
    "a = (10 , 15.5 , 'python')\n",
    "print(a[1])"
   ]
  },
  {
   "cell_type": "code",
   "execution_count": 7,
   "id": "b12961d8",
   "metadata": {},
   "outputs": [
    {
     "name": "stdout",
     "output_type": "stream",
     "text": [
      "(10, 15.5, 'python')\n"
     ]
    }
   ],
   "source": [
    "# use : \n",
    "a = (10 , 15.5 , 'python')\n",
    "print(a[:])"
   ]
  },
  {
   "cell_type": "code",
   "execution_count": 8,
   "id": "98545ac8",
   "metadata": {},
   "outputs": [
    {
     "name": "stdout",
     "output_type": "stream",
     "text": [
      "('python', 15.5, 10)\n"
     ]
    }
   ],
   "source": [
    "a = (10 , 15.5 , 'python')  # reverse\n",
    "print(a[::-1])"
   ]
  },
  {
   "cell_type": "code",
   "execution_count": 9,
   "id": "d1c2144c",
   "metadata": {},
   "outputs": [
    {
     "name": "stdout",
     "output_type": "stream",
     "text": [
      "(10, 'python')\n"
     ]
    }
   ],
   "source": [
    "a = (10 , 15.5 , 'python')  # skipping \n",
    "print(a[::2])"
   ]
  },
  {
   "cell_type": "markdown",
   "id": "6cad6b4c",
   "metadata": {},
   "source": [
    "#### Prove tuple is Mutable or Immutable "
   ]
  },
  {
   "cell_type": "code",
   "execution_count": 13,
   "id": "c5c20b86",
   "metadata": {},
   "outputs": [
    {
     "ename": "TypeError",
     "evalue": "'tuple' object does not support item assignment",
     "output_type": "error",
     "traceback": [
      "\u001b[1;31m---------------------------------------------------------------------------\u001b[0m",
      "\u001b[1;31mTypeError\u001b[0m                                 Traceback (most recent call last)",
      "Cell \u001b[1;32mIn[13], line 4\u001b[0m\n\u001b[0;32m      2\u001b[0m a \u001b[38;5;241m=\u001b[39m (\u001b[38;5;241m10\u001b[39m , \u001b[38;5;241m15.5\u001b[39m , \u001b[38;5;124m'\u001b[39m\u001b[38;5;124mpython\u001b[39m\u001b[38;5;124m'\u001b[39m)\n\u001b[0;32m      3\u001b[0m \u001b[38;5;66;03m# using index please add value to the existing variable a\u001b[39;00m\n\u001b[1;32m----> 4\u001b[0m \u001b[43ma\u001b[49m\u001b[43m[\u001b[49m\u001b[38;5;241;43m2\u001b[39;49m\u001b[43m]\u001b[49m \u001b[38;5;241m=\u001b[39m \u001b[38;5;124m'\u001b[39m\u001b[38;5;124mdata science\u001b[39m\u001b[38;5;124m'\u001b[39m\n\u001b[0;32m      6\u001b[0m \u001b[38;5;28mprint\u001b[39m(a)\n",
      "\u001b[1;31mTypeError\u001b[0m: 'tuple' object does not support item assignment"
     ]
    }
   ],
   "source": [
    "# addition \n",
    "a = (10 , 15.5 , 'python')\n",
    "# using index please add value to the existing variable a\n",
    "a[2] = 'data science'\n",
    "\n",
    "print(a)"
   ]
  },
  {
   "cell_type": "code",
   "execution_count": 14,
   "id": "881c04ef",
   "metadata": {},
   "outputs": [
    {
     "ename": "TypeError",
     "evalue": "'tuple' object doesn't support item deletion",
     "output_type": "error",
     "traceback": [
      "\u001b[1;31m---------------------------------------------------------------------------\u001b[0m",
      "\u001b[1;31mTypeError\u001b[0m                                 Traceback (most recent call last)",
      "Cell \u001b[1;32mIn[14], line 3\u001b[0m\n\u001b[0;32m      1\u001b[0m \u001b[38;5;66;03m# delete \u001b[39;00m\n\u001b[0;32m      2\u001b[0m a \u001b[38;5;241m=\u001b[39m (\u001b[38;5;241m10\u001b[39m , \u001b[38;5;241m15.5\u001b[39m , \u001b[38;5;124m'\u001b[39m\u001b[38;5;124mpython\u001b[39m\u001b[38;5;124m'\u001b[39m)  \n\u001b[1;32m----> 3\u001b[0m \u001b[38;5;28;01mdel\u001b[39;00m a[\u001b[38;5;241m2\u001b[39m]  \u001b[38;5;66;03m# remove python\u001b[39;00m\n\u001b[0;32m      4\u001b[0m \u001b[38;5;28mprint\u001b[39m(a)\n",
      "\u001b[1;31mTypeError\u001b[0m: 'tuple' object doesn't support item deletion"
     ]
    }
   ],
   "source": [
    "# delete \n",
    "a = (10 , 15.5 , 'python')  \n",
    "del a[2]  # remove python\n",
    "print(a)"
   ]
  },
  {
   "cell_type": "markdown",
   "id": "8f670403",
   "metadata": {},
   "source": [
    "### By checking the above conditions we can say that tuple is an immutable "
   ]
  },
  {
   "cell_type": "markdown",
   "id": "c7831b27",
   "metadata": {},
   "source": [
    "## pre-defined functions :\n",
    "\n",
    "- count \n",
    "- index "
   ]
  },
  {
   "cell_type": "code",
   "execution_count": 22,
   "id": "6dede03d",
   "metadata": {},
   "outputs": [
    {
     "name": "stdout",
     "output_type": "stream",
     "text": [
      "1\n"
     ]
    }
   ],
   "source": [
    "# count \n",
    "a = (10 , 15.5 , 'python',15.5)  \n",
    "print(a.count(10))"
   ]
  },
  {
   "cell_type": "code",
   "execution_count": 25,
   "id": "69c59652",
   "metadata": {},
   "outputs": [
    {
     "name": "stdout",
     "output_type": "stream",
     "text": [
      "3\n"
     ]
    }
   ],
   "source": [
    "# index :\n",
    "a = (10 , 15.5 , 'python',15.5)  \n",
    "print(a.index(15.5 , 2))"
   ]
  }
 ],
 "metadata": {
  "kernelspec": {
   "display_name": "Python 3 (ipykernel)",
   "language": "python",
   "name": "python3"
  },
  "language_info": {
   "codemirror_mode": {
    "name": "ipython",
    "version": 3
   },
   "file_extension": ".py",
   "mimetype": "text/x-python",
   "name": "python",
   "nbconvert_exporter": "python",
   "pygments_lexer": "ipython3",
   "version": "3.11.3"
  }
 },
 "nbformat": 4,
 "nbformat_minor": 5
}
