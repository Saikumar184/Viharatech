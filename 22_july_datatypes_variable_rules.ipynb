{
 "cells": [
  {
   "cell_type": "markdown",
   "id": "5bdd5846",
   "metadata": {},
   "source": [
    "### Data Types In Python "
   ]
  },
  {
   "cell_type": "markdown",
   "id": "f957a6e0",
   "metadata": {},
   "source": [
    "`basically we are having 3 data types `\n",
    "\n",
    "- Integer (int)\n",
    "- Float (float)\n",
    "- strings (str)"
   ]
  },
  {
   "cell_type": "code",
   "execution_count": 1,
   "id": "752a22e2",
   "metadata": {},
   "outputs": [
    {
     "data": {
      "text/plain": [
       "20"
      ]
     },
     "execution_count": 1,
     "metadata": {},
     "output_type": "execute_result"
    }
   ],
   "source": [
    "## Integer \n",
    "\n",
    "# if we give the value directlly it is not going to save in memory \n",
    "\n",
    "20"
   ]
  },
  {
   "cell_type": "code",
   "execution_count": 7,
   "id": "b9dca38c",
   "metadata": {},
   "outputs": [
    {
     "name": "stdout",
     "output_type": "stream",
     "text": [
      "20\n"
     ]
    }
   ],
   "source": [
    "a = 20\n",
    "print(a)"
   ]
  },
  {
   "cell_type": "code",
   "execution_count": 8,
   "id": "1be60113",
   "metadata": {},
   "outputs": [
    {
     "name": "stdout",
     "output_type": "stream",
     "text": [
      "400\n"
     ]
    }
   ],
   "source": [
    "a = 400\n",
    "print(a)"
   ]
  },
  {
   "cell_type": "code",
   "execution_count": 26,
   "id": "9322917c",
   "metadata": {},
   "outputs": [
    {
     "name": "stdout",
     "output_type": "stream",
     "text": [
      "20\n",
      "<class 'int'>\n"
     ]
    }
   ],
   "source": [
    "# so we need to use a technique called variable to save in the memroy\n",
    "# python is a line by line execution process\n",
    "\n",
    "a = 20  # saving in memory\n",
    "print(a) # calling from memory \n",
    "# using type keyword we can find out type of value \n",
    "print(type(a)) # while calling it check which type the variable is holding\n",
    "# type keyword is used to find which data type the variable is holding "
   ]
  },
  {
   "cell_type": "code",
   "execution_count": 9,
   "id": "ea1d9c2a",
   "metadata": {},
   "outputs": [
    {
     "name": "stdout",
     "output_type": "stream",
     "text": [
      "15.5\n",
      "<class 'float'>\n"
     ]
    }
   ],
   "source": [
    "# so we need to use a technique called variable to save in the memroy\n",
    "# python is a line by line execution process\n",
    "# float \n",
    "\n",
    "a = 15.5  # saving in memory\n",
    "print(a) # calling from memory \n",
    "# using type keyword we can find out type of value \n",
    "print(type(a)) # while calling it check which type the variable is holding"
   ]
  },
  {
   "cell_type": "code",
   "execution_count": 12,
   "id": "c90f9334",
   "metadata": {},
   "outputs": [
    {
     "name": "stdout",
     "output_type": "stream",
     "text": [
      "python\n",
      "<class 'str'>\n"
     ]
    }
   ],
   "source": [
    "# strings: need to keep in quotes ''\n",
    "# print : used to call variables from memory space and show the output for the user\n",
    "\n",
    "a = 'python'\n",
    "print(a)\n",
    "print(type(a))"
   ]
  },
  {
   "cell_type": "markdown",
   "id": "a8b819bb",
   "metadata": {},
   "source": [
    "### ***Rules to create a variables***"
   ]
  },
  {
   "cell_type": "markdown",
   "id": "51e0ad5f",
   "metadata": {},
   "source": [
    "`Rule 1: variable should not start with a number use underscore instead`\n",
    "\n",
    "`Rule 2: variables should not have the empty spaces use underscore instead`\n",
    "    \n",
    "`Rule 3: variables follow case sensitive `\n",
    "    \n",
    "`Rule 4: dont use punctutaion as variables !\"#$%&\\'()*+,-./:;<=>?@[\\\\]^_`{|}~`"
   ]
  },
  {
   "cell_type": "markdown",
   "id": "b7b39431",
   "metadata": {},
   "source": [
    "### Rule 1: variable should not start with a number use underscore instead"
   ]
  },
  {
   "cell_type": "code",
   "execution_count": 14,
   "id": "912028a6",
   "metadata": {},
   "outputs": [
    {
     "ename": "SyntaxError",
     "evalue": "cannot assign to literal (4263486873.py, line 1)",
     "output_type": "error",
     "traceback": [
      "\u001b[1;36m  Cell \u001b[1;32mIn[14], line 1\u001b[1;36m\u001b[0m\n\u001b[1;33m    1 = 'python'  # giving string to variable 1\u001b[0m\n\u001b[1;37m    ^\u001b[0m\n\u001b[1;31mSyntaxError\u001b[0m\u001b[1;31m:\u001b[0m cannot assign to literal\n"
     ]
    }
   ],
   "source": [
    "1 = 'python'  # giving string to variable 1"
   ]
  },
  {
   "cell_type": "code",
   "execution_count": 16,
   "id": "b6025863",
   "metadata": {},
   "outputs": [
    {
     "name": "stdout",
     "output_type": "stream",
     "text": [
      "python\n"
     ]
    }
   ],
   "source": [
    "_1 = 'python'  # giving string to variable 1\n",
    "print(_1)"
   ]
  },
  {
   "cell_type": "markdown",
   "id": "d757f276",
   "metadata": {},
   "source": [
    "### Rule 2: variables should not have the empty spaces use underscore instead"
   ]
  },
  {
   "cell_type": "code",
   "execution_count": 17,
   "id": "6f44edc7",
   "metadata": {},
   "outputs": [
    {
     "ename": "SyntaxError",
     "evalue": "invalid syntax (3301424250.py, line 1)",
     "output_type": "error",
     "traceback": [
      "\u001b[1;36m  Cell \u001b[1;32mIn[17], line 1\u001b[1;36m\u001b[0m\n\u001b[1;33m    sai kamal = 100\u001b[0m\n\u001b[1;37m        ^\u001b[0m\n\u001b[1;31mSyntaxError\u001b[0m\u001b[1;31m:\u001b[0m invalid syntax\n"
     ]
    }
   ],
   "source": [
    "sai kamal = 100"
   ]
  },
  {
   "cell_type": "code",
   "execution_count": 21,
   "id": "bff2c64f",
   "metadata": {},
   "outputs": [
    {
     "name": "stdout",
     "output_type": "stream",
     "text": [
      "100\n"
     ]
    }
   ],
   "source": [
    "sai_kamal = 100  # if we get error in 1st line it not go to second line \n",
    "print(sai_kamal)"
   ]
  },
  {
   "cell_type": "markdown",
   "id": "0340f156",
   "metadata": {},
   "source": [
    "### Rule 3: variables follow case sensitive"
   ]
  },
  {
   "cell_type": "code",
   "execution_count": 23,
   "id": "e2da24e3",
   "metadata": {},
   "outputs": [
    {
     "ename": "NameError",
     "evalue": "name 'HERO' is not defined",
     "output_type": "error",
     "traceback": [
      "\u001b[1;31m---------------------------------------------------------------------------\u001b[0m",
      "\u001b[1;31mNameError\u001b[0m                                 Traceback (most recent call last)",
      "Cell \u001b[1;32mIn[23], line 2\u001b[0m\n\u001b[0;32m      1\u001b[0m hero\u001b[38;5;241m=\u001b[39m\u001b[38;5;124m'\u001b[39m\u001b[38;5;124msharuk\u001b[39m\u001b[38;5;124m'\u001b[39m\n\u001b[1;32m----> 2\u001b[0m \u001b[38;5;28mprint\u001b[39m(\u001b[43mHERO\u001b[49m)\n",
      "\u001b[1;31mNameError\u001b[0m: name 'HERO' is not defined"
     ]
    }
   ],
   "source": [
    "hero='sharuk'\n",
    "print(HERO)"
   ]
  },
  {
   "cell_type": "code",
   "execution_count": 24,
   "id": "df5b02ca",
   "metadata": {},
   "outputs": [
    {
     "name": "stdout",
     "output_type": "stream",
     "text": [
      "sharuk\n"
     ]
    }
   ],
   "source": [
    "HERO='sharuk'\n",
    "print(HERO)"
   ]
  },
  {
   "cell_type": "markdown",
   "id": "5c942524",
   "metadata": {},
   "source": [
    "### Rule 4: dont use punctutaion as variables !\"#$%&\\'()*+,-./:;<=>?@[\\\\]^_{|}~`"
   ]
  },
  {
   "cell_type": "code",
   "execution_count": 25,
   "id": "1f43bd5e",
   "metadata": {},
   "outputs": [
    {
     "ename": "SyntaxError",
     "evalue": "invalid syntax (1362656607.py, line 1)",
     "output_type": "error",
     "traceback": [
      "\u001b[1;36m  Cell \u001b[1;32mIn[25], line 1\u001b[1;36m\u001b[0m\n\u001b[1;33m    & = 15.5\u001b[0m\n\u001b[1;37m    ^\u001b[0m\n\u001b[1;31mSyntaxError\u001b[0m\u001b[1;31m:\u001b[0m invalid syntax\n"
     ]
    }
   ],
   "source": [
    "& = 15.5\n",
    "print(&)"
   ]
  },
  {
   "cell_type": "code",
   "execution_count": 27,
   "id": "58818abf",
   "metadata": {},
   "outputs": [
    {
     "ename": "NameError",
     "evalue": "name 'python' is not defined",
     "output_type": "error",
     "traceback": [
      "\u001b[1;31m---------------------------------------------------------------------------\u001b[0m",
      "\u001b[1;31mNameError\u001b[0m                                 Traceback (most recent call last)",
      "Cell \u001b[1;32mIn[27], line 1\u001b[0m\n\u001b[1;32m----> 1\u001b[0m a \u001b[38;5;241m=\u001b[39m \u001b[43mpython\u001b[49m\n\u001b[0;32m      2\u001b[0m \u001b[38;5;28mprint\u001b[39m(a)\n",
      "\u001b[1;31mNameError\u001b[0m: name 'python' is not defined"
     ]
    }
   ],
   "source": [
    "a = python\n",
    "print(a)"
   ]
  },
  {
   "cell_type": "code",
   "execution_count": null,
   "id": "479aad7d",
   "metadata": {},
   "outputs": [],
   "source": []
  }
 ],
 "metadata": {
  "kernelspec": {
   "display_name": "Python 3 (ipykernel)",
   "language": "python",
   "name": "python3"
  },
  "language_info": {
   "codemirror_mode": {
    "name": "ipython",
    "version": 3
   },
   "file_extension": ".py",
   "mimetype": "text/x-python",
   "name": "python",
   "nbconvert_exporter": "python",
   "pygments_lexer": "ipython3",
   "version": "3.9.13"
  }
 },
 "nbformat": 4,
 "nbformat_minor": 5
}
